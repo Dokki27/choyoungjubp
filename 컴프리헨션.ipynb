{
 "cells": [
  {
   "cell_type": "markdown",
   "id": "374f8ee9",
   "metadata": {},
   "source": [
    "# **C431229 조영주**"
   ]
  },
  {
   "cell_type": "markdown",
   "id": "e7e76124",
   "metadata": {},
   "source": [
    "# **컴프리헨션_기본**"
   ]
  },
  {
   "cell_type": "markdown",
   "id": "1c18b59e",
   "metadata": {},
   "source": [
    "## 리스트 컴프리헨션"
   ]
  },
  {
   "cell_type": "markdown",
   "id": "10cf2157",
   "metadata": {},
   "source": [
    "### 리스트 컴프리헨션을 사용한 리스트 생성"
   ]
  },
  {
   "cell_type": "code",
   "execution_count": 51,
   "id": "3a02982d",
   "metadata": {},
   "outputs": [
    {
     "name": "stdout",
     "output_type": "stream",
     "text": [
      "nums_comp = [15, 15, 15, 15, 15]\n"
     ]
    }
   ],
   "source": [
    "nums_comp = [num+10 for rum in range(1,6)]\n",
    "print(f'{nums_comp = }')"
   ]
  },
  {
   "cell_type": "markdown",
   "id": "daa07f0d",
   "metadata": {},
   "source": [
    "### for문을 사용한 리스트 생성과 비교 "
   ]
  },
  {
   "cell_type": "code",
   "execution_count": 76,
   "id": "5543495b",
   "metadata": {},
   "outputs": [
    {
     "name": "stdout",
     "output_type": "stream",
     "text": [
      "nums_for = [11, 12, 13, 14, 15]\n"
     ]
    }
   ],
   "source": [
    "nums_for = []\n",
    "for num in range(1,6):\n",
    "    nums_for.append(num+10)\n",
    "print(f'{nums_for = }')"
   ]
  },
  {
   "cell_type": "markdown",
   "id": "b9d62509",
   "metadata": {},
   "source": [
    "### map함수를 사용한 리스트 생성과 비교"
   ]
  },
  {
   "cell_type": "code",
   "execution_count": 53,
   "id": "ce26e178",
   "metadata": {},
   "outputs": [
    {
     "data": {
      "text/plain": [
       "15"
      ]
     },
     "execution_count": 53,
     "metadata": {},
     "output_type": "execute_result"
    }
   ],
   "source": [
    "def add_ten(num):\n",
    "    return num +10\n",
    "add_ten(5)"
   ]
  },
  {
   "cell_type": "code",
   "execution_count": 54,
   "id": "a321a9ae",
   "metadata": {},
   "outputs": [
    {
     "data": {
      "text/plain": [
       "<map at 0x1a3ca32ef80>"
      ]
     },
     "execution_count": 54,
     "metadata": {},
     "output_type": "execute_result"
    }
   ],
   "source": [
    "map(add_ten, [1,2,3,4,5])"
   ]
  },
  {
   "cell_type": "code",
   "execution_count": 55,
   "id": "f6f1f100",
   "metadata": {},
   "outputs": [
    {
     "data": {
      "text/plain": [
       "[11, 12, 13, 14, 15]"
      ]
     },
     "execution_count": 55,
     "metadata": {},
     "output_type": "execute_result"
    }
   ],
   "source": [
    "list(map(add_ten, [1,2,3,4,5]))"
   ]
  },
  {
   "cell_type": "code",
   "execution_count": 56,
   "id": "42c35061",
   "metadata": {},
   "outputs": [
    {
     "name": "stdout",
     "output_type": "stream",
     "text": [
      "nums_map = [11, 12, 13, 14, 15]\n"
     ]
    }
   ],
   "source": [
    "nums_map = list(map(add_ten, range(1,6)))\n",
    "print(f'{nums_map = }')"
   ]
  },
  {
   "cell_type": "markdown",
   "id": "1db66acd",
   "metadata": {},
   "source": [
    "### 수식을 적용한 리스트 컴프리헨션"
   ]
  },
  {
   "cell_type": "code",
   "execution_count": 57,
   "id": "6df25859",
   "metadata": {},
   "outputs": [
    {
     "name": "stdout",
     "output_type": "stream",
     "text": [
      "nums_math = [1, 3, 5, 7, 9]\n"
     ]
    }
   ],
   "source": [
    "nums_math = [num*2-1 for num in range(1,6)]\n",
    "print(f'{nums_math = }')"
   ]
  },
  {
   "cell_type": "markdown",
   "id": "8a83bb31",
   "metadata": {},
   "source": [
    "### 함수를 적용한 리스트 컴프리헨션"
   ]
  },
  {
   "cell_type": "code",
   "execution_count": 59,
   "id": "a4b99147",
   "metadata": {},
   "outputs": [
    {
     "name": "stdout",
     "output_type": "stream",
     "text": [
      "nums_func = ['Int_1', 'Int_2', 'Int_3', 'Int_4', 'Int_5']\n"
     ]
    }
   ],
   "source": [
    "def addString(x):\n",
    "    return 'Int_' +str(x)\n",
    "nums_func = [addString(num) for num in range(1,6)]\n",
    "print(f'{nums_func = }')"
   ]
  },
  {
   "cell_type": "markdown",
   "id": "4ccf4dc7",
   "metadata": {},
   "source": [
    "### if조건문을 적용한 리스트 컴프리헨션"
   ]
  },
  {
   "cell_type": "code",
   "execution_count": 61,
   "id": "d73551f5",
   "metadata": {},
   "outputs": [
    {
     "name": "stdout",
     "output_type": "stream",
     "text": [
      "nums_odds = [1, 3, 5]\n"
     ]
    }
   ],
   "source": [
    "nums_odds = [num for num in range(1,6) if num % 2 == 1]\n",
    "print(f'{nums_odds = }')"
   ]
  },
  {
   "cell_type": "code",
   "execution_count": 62,
   "id": "a982fac1",
   "metadata": {},
   "outputs": [
    {
     "name": "stdout",
     "output_type": "stream",
     "text": [
      "nums_odds_zero = [1, 0, 3, 0, 5]\n"
     ]
    }
   ],
   "source": [
    "nums_odds_zero = [num if num %2 == 1 else 0 for num in range (1,6)]\n",
    "print(f'{nums_odds_zero = }')"
   ]
  },
  {
   "cell_type": "code",
   "execution_count": 63,
   "id": "88c5c1e4",
   "metadata": {},
   "outputs": [
    {
     "name": "stdout",
     "output_type": "stream",
     "text": [
      "nums_odds_less4 = [1, 3]\n"
     ]
    }
   ],
   "source": [
    "nums_odds_less4 = [num for num in range(1,6) if num % 2 == 1 if num < 4]\n",
    "print(f'{nums_odds_less4 = }')"
   ]
  },
  {
   "cell_type": "markdown",
   "id": "72a09dcf",
   "metadata": {},
   "source": [
    "### 중첩된 리스트 컴프리헨션"
   ]
  },
  {
   "cell_type": "code",
   "execution_count": 68,
   "id": "4bea51d6",
   "metadata": {},
   "outputs": [
    {
     "name": "stdout",
     "output_type": "stream",
     "text": [
      "nums_pairs = [(1, 'a'), (1, 'b'), (1, 'c'), (2, 'a'), (2, 'b'), (2, 'c')]\n"
     ]
    }
   ],
   "source": [
    "nums_pairs = [(x,y) for x in range(1,3) for y in ['a', 'b', 'c']]\n",
    "print(f'{nums_pairs = }')"
   ]
  },
  {
   "cell_type": "code",
   "execution_count": 69,
   "id": "8d65ee3c",
   "metadata": {},
   "outputs": [
    {
     "name": "stdout",
     "output_type": "stream",
     "text": [
      "num_pairs_sum5 = [(1, 4), (2, 3), (3, 2), (4, 1)]\n"
     ]
    }
   ],
   "source": [
    "num_pairs_sum5 = [(x,y) for x in range(1,6) for y in range(1,6) if x+y==5]\n",
    "print(f'{num_pairs_sum5 = }')"
   ]
  },
  {
   "cell_type": "markdown",
   "id": "1b8385c4",
   "metadata": {},
   "source": [
    "## 딕셔너리 컴프리헨션"
   ]
  },
  {
   "cell_type": "code",
   "execution_count": 71,
   "id": "3acbc284",
   "metadata": {},
   "outputs": [
    {
     "name": "stdout",
     "output_type": "stream",
     "text": [
      "students_for = {1: '최딕션', 2: '최딕션', 3: '최딕션', 4: '최딕션'}\n"
     ]
    }
   ],
   "source": [
    "ids = [1,2,3,4]\n",
    "student_names = ['김홍익', '이컴프리', '박헨션', '최딕션']\n",
    "students_for = {id:name for id in ids for name in student_names}\n",
    "print(f'{students_for = }')"
   ]
  },
  {
   "cell_type": "code",
   "execution_count": 72,
   "id": "e8a7afd6",
   "metadata": {},
   "outputs": [
    {
     "name": "stdout",
     "output_type": "stream",
     "text": [
      "students_enumerate = {0: '김홍익', 1: '이컴프리', 2: '박헨션', 3: '최딕션'}\n"
     ]
    }
   ],
   "source": [
    "student_names = ['김홍익', '이컴프리', '박헨션', '최딕션']\n",
    "students_enumerate = {id:name for id, name in enumerate(student_names)}\n",
    "print(f'{students_enumerate = }')"
   ]
  },
  {
   "cell_type": "code",
   "execution_count": 73,
   "id": "77429e6b",
   "metadata": {},
   "outputs": [
    {
     "name": "stdout",
     "output_type": "stream",
     "text": [
      "students_zip ={1: '김홍익', 2: '이컴프리', 3: '박헨션', 4: '최딕션'}\n"
     ]
    }
   ],
   "source": [
    "ids = [1,2,3,4]\n",
    "student_names = ['김홍익', '이컴프리', '박헨션', '최딕션']\n",
    "students_zip = {id:name for id, name in zip(ids, student_names)}\n",
    "print(f'{students_zip =}')"
   ]
  },
  {
   "cell_type": "markdown",
   "id": "23ef6970",
   "metadata": {},
   "source": [
    "## set 컴프리헨션"
   ]
  },
  {
   "cell_type": "code",
   "execution_count": 74,
   "id": "2362dd8b",
   "metadata": {},
   "outputs": [
    {
     "name": "stdout",
     "output_type": "stream",
     "text": [
      "sum_list = [2, 3, 4, 5, 6, 3, 4, 5, 6, 7, 4, 5, 6, 7, 8, 5, 6, 7, 8, 9, 6, 7, 8, 9, 10, 7, 8, 9, 10, 11, 8, 9, 10, 11, 12, 9, 10, 11, 12, 13, 10, 11, 12, 13, 14, 11, 12, 13, 14, 15, 12, 13, 14, 15, 16, 13, 14, 15, 16, 17, 14, 15, 16, 17, 18, 15, 16, 17, 18, 19, 16, 17, 18, 19, 20, 17, 18, 19, 20, 21, 18, 19, 20, 21, 22, 19, 20, 21, 22, 23, 20, 21, 22, 23, 24, 21, 22, 23, 24, 25, 22, 23, 24, 25, 26, 23, 24, 25, 26, 27, 24, 25, 26, 27, 28, 25, 26, 27, 28, 29, 26, 27, 28, 29, 30, 27, 28, 29, 30, 31, 28, 29, 30, 31, 32, 29, 30, 31, 32, 33, 30, 31, 32, 33, 34, 31, 32, 33, 34, 35, 32, 33, 34, 35, 36, 33, 34, 35, 36, 37, 34, 35, 36, 37, 38, 35, 36, 37, 38, 39, 36, 37, 38, 39, 40, 37, 38, 39, 40, 41, 38, 39, 40, 41, 42, 39, 40, 41, 42, 43, 40, 41, 42, 43, 44, 41, 42, 43, 44, 45, 42, 43, 44, 45, 46, 43, 44, 45, 46, 47, 44, 45, 46, 47, 48, 45, 46, 47, 48, 49, 46, 47, 48, 49, 50, 47, 48, 49, 50, 51, 48, 49, 50, 51, 52, 49, 50, 51, 52, 53, 50, 51, 52, 53, 54, 51, 52, 53, 54, 55, 52, 53, 54, 55, 56, 53, 54, 55, 56, 57, 54, 55, 56, 57, 58, 55, 56, 57, 58, 59, 56, 57, 58, 59, 60, 57, 58, 59, 60, 61, 58, 59, 60, 61, 62, 59, 60, 61, 62, 63, 60, 61, 62, 63, 64]\n",
      "\n",
      "sum_set = {2, 3, 4, 5, 6, 7, 8, 9, 10}\n"
     ]
    }
   ],
   "source": [
    "sum_list = [x+y for x in range(1,60 )for y in range(1,6)]\n",
    "print(f'{sum_list = }\\n')\n",
    "sum_set = {x+y for x in range(1,6) for y in range(1,6)}\n",
    "print(f'{sum_set = }')\n"
   ]
  },
  {
   "cell_type": "markdown",
   "id": "c0eed16b",
   "metadata": {},
   "source": [
    "## tuple 컴프리헨션"
   ]
  },
  {
   "cell_type": "code",
   "execution_count": 75,
   "id": "90a87635",
   "metadata": {},
   "outputs": [
    {
     "name": "stdout",
     "output_type": "stream",
     "text": [
      "nums_pairs_list = [(1, 'a'), (1, 'b'), (1, 'c'), (2, 'a'), (2, 'b'), (2, 'c')]\n",
      "\n",
      "nums_pairs_tuple = <generator object <genexpr> at 0x000001A3CA243A00>\n",
      "tuple(nums_pairs_tuple) = ((1, 'a'), (1, 'b'), (1, 'c'), (2, 'a'), (2, 'b'), (2, 'c'))\n",
      "\n",
      "nums_pairs_tuple2 = ((1, 'a'), (1, 'b'), (1, 'c'), (2, 'a'), (2, 'b'), (2, 'c'))\n"
     ]
    }
   ],
   "source": [
    "nums_pairs_list = [(x,y) for x in range(1,3) for y in ['a', 'b', 'c']]\n",
    "print(f'{nums_pairs_list = }\\n')\n",
    "nums_pairs_tuple = ((x,y) for x in range(1,3) for y in ['a', 'b', 'c'])\n",
    "print(f'{nums_pairs_tuple = }')\n",
    "print(f'{tuple(nums_pairs_tuple) = }\\n')\n",
    "nums_pairs_tuple2 = tuple((x,y) for x in range(1,3) for y in ['a', 'b', 'c'])\n",
    "print(f'{nums_pairs_tuple2 = }')"
   ]
  },
  {
   "cell_type": "markdown",
   "id": "f745d596",
   "metadata": {},
   "source": [
    "## 컴프리헨션_응용"
   ]
  },
  {
   "cell_type": "markdown",
   "id": "7ae5d7b9",
   "metadata": {},
   "source": [
    "### 수식을적용한 리스트 컴프리헨션"
   ]
  },
  {
   "cell_type": "code",
   "execution_count": 78,
   "id": "8649d327",
   "metadata": {},
   "outputs": [
    {
     "name": "stdout",
     "output_type": "stream",
     "text": [
      "nums_math = [1, 0, 1, 0, 1]\n"
     ]
    }
   ],
   "source": [
    "nums_math = [num%2 for num in range(1,6)]\n",
    "print(f'{nums_math = }')\n",
    "# 나머지 계산도 가능"
   ]
  },
  {
   "cell_type": "markdown",
   "id": "e0de816d",
   "metadata": {},
   "source": [
    "### 함수를 적용한 리스트 컴프리헨션"
   ]
  },
  {
   "cell_type": "code",
   "execution_count": 79,
   "id": "6c34d397",
   "metadata": {},
   "outputs": [
    {
     "data": {
      "text/plain": [
       "['Int_1', 'Int_2', 'Int_3', 'Int_4', 'Int_5']"
      ]
     },
     "execution_count": 79,
     "metadata": {},
     "output_type": "execute_result"
    }
   ],
   "source": [
    "def addString(x):\n",
    "    return 'Int_' + str(x)\n",
    "list(map(addString, range (1,6)))\n",
    "\n",
    "#map함수를 활용하여 적용 "
   ]
  },
  {
   "cell_type": "code",
   "execution_count": 85,
   "id": "d7b48cb7",
   "metadata": {},
   "outputs": [
    {
     "data": {
      "text/plain": [
       "['A', 'B', 'C', 'D', 'E']"
      ]
     },
     "execution_count": 85,
     "metadata": {},
     "output_type": "execute_result"
    }
   ],
   "source": [
    "[chr for chr in 'AaBbCcDdEe']\n",
    "[ chr for chr in 'AaBbCcDdEe' if chr in 'ABCDE']\n",
    "# 알파벳 중 대문자만 출력"
   ]
  },
  {
   "cell_type": "code",
   "execution_count": 89,
   "id": "fcdc2679",
   "metadata": {},
   "outputs": [
    {
     "data": {
      "text/plain": [
       "['A', 1, 'B', 3, 'C', 5, 'D', 7, 'E', 9]"
      ]
     },
     "execution_count": 89,
     "metadata": {},
     "output_type": "execute_result"
    }
   ],
   "source": [
    "[chr for chr in 'AaBbCcDdEe']\n",
    "[chr if chr in 'ABCDE' else 'AaBbCcDdEe'.find(chr) for chr in 'AaBbCcDdEe'] \n",
    "# 대문자 혹은 소문자의 위치 출력"
   ]
  },
  {
   "cell_type": "code",
   "execution_count": 91,
   "id": "7aa0c42d",
   "metadata": {},
   "outputs": [
    {
     "data": {
      "text/plain": [
       "['A', 1, 'B', 3, 'C', 5, 'D', 7, 'E', 9]"
      ]
     },
     "execution_count": 91,
     "metadata": {},
     "output_type": "execute_result"
    }
   ],
   "source": [
    "[chr for chr in 'AaBbCcDdEe']\n",
    "[chr if chr in 'ABCDE' else i for i, chr in enumerate('AaBbCcDdEe')]\n",
    "# enumerate를 활용한 대문자 혹은 소문자의 위치 출력"
   ]
  },
  {
   "cell_type": "code",
   "execution_count": 87,
   "id": "232c4f85",
   "metadata": {},
   "outputs": [
    {
     "name": "stdout",
     "output_type": "stream",
     "text": [
      "0 A\n",
      "1 a\n",
      "2 B\n",
      "3 b\n",
      "4 C\n",
      "5 c\n",
      "6 D\n",
      "7 d\n",
      "8 E\n",
      "9 e\n"
     ]
    }
   ],
   "source": [
    "for i, ch in enumerate('AaBbCcDdEe'):\n",
    "    print(i, ch)\n",
    "# 각 알파벳과 위치 출력"
   ]
  },
  {
   "cell_type": "markdown",
   "id": "89cbf4f7",
   "metadata": {},
   "source": [
    "### 중첩된 리스트 컴프리헨션"
   ]
  },
  {
   "cell_type": "code",
   "execution_count": 84,
   "id": "eab31f73",
   "metadata": {},
   "outputs": [
    {
     "name": "stdout",
     "output_type": "stream",
     "text": [
      "num_pairs_sum5 = [(4, 1), (3, 2), (2, 3), (1, 4)]\n"
     ]
    }
   ],
   "source": [
    "num_pairs_sum5 = [(x,y) for y in range(1,6) for x in range(1,6) if x+y==5]\n",
    "print(f'{num_pairs_sum5 = }')\n",
    "#x와 y 순서를 바꿔 거꾸로 출력되도록록 함"
   ]
  },
  {
   "cell_type": "markdown",
   "id": "2d804a24",
   "metadata": {},
   "source": [
    "### 딕셔너리 컴프리헨션"
   ]
  },
  {
   "cell_type": "code",
   "execution_count": 96,
   "id": "0eb58abb",
   "metadata": {},
   "outputs": [
    {
     "name": "stdout",
     "output_type": "stream",
     "text": [
      "students_zip = {'A': '김홍익', 'B': '조영주', 'C': '박세경'}\n"
     ]
    }
   ],
   "source": [
    "ids = ['A','a','B','b','C']\n",
    "students_names = ['김홍익','김딕션','조영주','조정현','박세경']\n",
    "students_zip = {id:name for id, name in zip(ids, students_names) if id in'ABC'}\n",
    "print(f'{students_zip = }')\n",
    "#if문을 함께 활용하여 대문자 아이디만 출력"
   ]
  }
 ],
 "metadata": {
  "kernelspec": {
   "display_name": "Python 3",
   "language": "python",
   "name": "python3"
  },
  "language_info": {
   "codemirror_mode": {
    "name": "ipython",
    "version": 3
   },
   "file_extension": ".py",
   "mimetype": "text/x-python",
   "name": "python",
   "nbconvert_exporter": "python",
   "pygments_lexer": "ipython3",
   "version": "3.13.2"
  }
 },
 "nbformat": 4,
 "nbformat_minor": 5
}
