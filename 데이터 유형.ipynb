{
 "cells": [
  {
   "cell_type": "markdown",
   "id": "76b9aa82",
   "metadata": {},
   "source": [
    "### C431229 조영주\n",
    "\n",
    "# **데이터 유형_기본**\n",
    "## 파이썬의 데이터 유형(type)\n",
    "### 데이터 유형의 확인 "
   ]
  },
  {
   "cell_type": "code",
   "execution_count": 1,
   "id": "b0025b4f",
   "metadata": {},
   "outputs": [
    {
     "name": "stdout",
     "output_type": "stream",
     "text": [
      "x_value = 12345\n",
      "type(x_value) = <class 'int'>\n"
     ]
    }
   ],
   "source": [
    "x_value = 12345 \n",
    "print(f'{x_value = }\\n{type(x_value) = }')"
   ]
  },
  {
   "cell_type": "code",
   "execution_count": 2,
   "id": "fdd53c46",
   "metadata": {},
   "outputs": [
    {
     "name": "stdout",
     "output_type": "stream",
     "text": [
      "x_str ='abced'\n",
      "type(x_str) = <class 'str'>\n"
     ]
    }
   ],
   "source": [
    "x_str = 'abced'\n",
    "print(f'{x_str =}\\n{type(x_str) = }')"
   ]
  },
  {
   "cell_type": "code",
   "execution_count": 3,
   "id": "9dfeacff",
   "metadata": {},
   "outputs": [
    {
     "name": "stdout",
     "output_type": "stream",
     "text": [
      "x_list =['abced', 12345]\n",
      "type(x_list) = <class 'list'>\n"
     ]
    }
   ],
   "source": [
    "x_list = [x_str, x_value]\n",
    "print(f'{x_list =}\\n{type(x_list) = }')"
   ]
  },
  {
   "cell_type": "code",
   "execution_count": 5,
   "id": "5eed8d31",
   "metadata": {},
   "outputs": [
    {
     "name": "stdout",
     "output_type": "stream",
     "text": [
      "x_tuple = ('abced', 12345)\n",
      "type(x_tuple) = <class 'tuple'>\n"
     ]
    }
   ],
   "source": [
    "x_tuple = (x_str, x_value)\n",
    "print(f'{x_tuple = }\\n{type(x_tuple) = }')"
   ]
  },
  {
   "cell_type": "code",
   "execution_count": 6,
   "id": "d4b88ef4",
   "metadata": {},
   "outputs": [
    {
     "name": "stdout",
     "output_type": "stream",
     "text": [
      "x_dict = {'name': 'Chunghun Ha', 'id': 67890}\n",
      "type(x_dict) =<class 'dict'>\n"
     ]
    }
   ],
   "source": [
    "x_dict = {'name': 'Chunghun Ha', 'id':67890}\n",
    "print(f'{x_dict = }\\n{type(x_dict) =}')"
   ]
  },
  {
   "cell_type": "code",
   "execution_count": 7,
   "id": "f979c4a9",
   "metadata": {},
   "outputs": [
    {
     "name": "stdout",
     "output_type": "stream",
     "text": [
      "x_none = None\n",
      "type(x_none) = <class 'NoneType'>\n"
     ]
    }
   ],
   "source": [
    "x_none = None\n",
    "print(f'{x_none = }\\n{type(x_none) = }')"
   ]
  },
  {
   "cell_type": "markdown",
   "id": "412651b3",
   "metadata": {},
   "source": [
    "## 변수는 객체"
   ]
  },
  {
   "cell_type": "code",
   "execution_count": 8,
   "id": "e6c4b79b",
   "metadata": {},
   "outputs": [
    {
     "name": "stdout",
     "output_type": "stream",
     "text": [
      "['__abs__', '__add__', '__and__', '__bool__', '__ceil__', '__class__', '__delattr__', '__dir__', '__divmod__', '__doc__', '__eq__', '__float__', '__floor__', '__floordiv__', '__format__', '__ge__', '__getattribute__', '__getnewargs__', '__getstate__', '__gt__', '__hash__', '__index__', '__init__', '__init_subclass__', '__int__', '__invert__', '__le__', '__lshift__', '__lt__', '__mod__', '__mul__', '__ne__', '__neg__', '__new__', '__or__', '__pos__', '__pow__', '__radd__', '__rand__', '__rdivmod__', '__reduce__', '__reduce_ex__', '__repr__', '__rfloordiv__', '__rlshift__', '__rmod__', '__rmul__', '__ror__', '__round__', '__rpow__', '__rrshift__', '__rshift__', '__rsub__', '__rtruediv__', '__rxor__', '__setattr__', '__sizeof__', '__str__', '__sub__', '__subclasshook__', '__truediv__', '__trunc__', '__xor__', 'as_integer_ratio', 'bit_count', 'bit_length', 'conjugate', 'denominator', 'from_bytes', 'imag', 'is_integer', 'numerator', 'real', 'to_bytes']\n"
     ]
    }
   ],
   "source": [
    "print(dir(x_value))"
   ]
  },
  {
   "cell_type": "code",
   "execution_count": 9,
   "id": "b69572bb",
   "metadata": {},
   "outputs": [
    {
     "name": "stdout",
     "output_type": "stream",
     "text": [
      "x_value.real = 12345\n",
      "x_value.bit_length() = 14\n"
     ]
    }
   ],
   "source": [
    "print(f'{x_value.real = }')\n",
    "print(f'{x_value.bit_length() = }')"
   ]
  },
  {
   "cell_type": "markdown",
   "id": "36c68566",
   "metadata": {},
   "source": [
    "## mutable과 immutable\n",
    "### mutable: 리스트"
   ]
  },
  {
   "cell_type": "code",
   "execution_count": 13,
   "id": "dc4b5aa5",
   "metadata": {},
   "outputs": [
    {
     "name": "stdout",
     "output_type": "stream",
     "text": [
      "Before: x_list = ['abced', 12345]\n",
      "After: x_list = ['abced', 'fghij']\n"
     ]
    }
   ],
   "source": [
    "x_list = ['abced', 12345]\n",
    "print(f'Before: {x_list = }')\n",
    "x_list[1] = 'fghij'\n",
    "print(f'After: {x_list = }')"
   ]
  },
  {
   "cell_type": "markdown",
   "id": "0a91af50",
   "metadata": {},
   "source": [
    "### mutable: 딕셔너리 "
   ]
  },
  {
   "cell_type": "code",
   "execution_count": 14,
   "id": "206fff72",
   "metadata": {},
   "outputs": [
    {
     "name": "stdout",
     "output_type": "stream",
     "text": [
      "Before: x_dict = {'name': 'Chunghun Ha', 'id': 67890}\n",
      "After: x_dict = {'name': 'Gildong Hong', 'id': 67890}\n"
     ]
    }
   ],
   "source": [
    "x_dict = {'name': 'Chunghun Ha', 'id':67890}\n",
    "print(f'Before: {x_dict = }')\n",
    "x_dict['name'] = 'Gildong Hong'\n",
    "print(f'After: {x_dict = }')"
   ]
  },
  {
   "cell_type": "markdown",
   "id": "78197e5f",
   "metadata": {},
   "source": [
    "### immutable: 문자열 -> 원소 바꾸기 불가"
   ]
  },
  {
   "cell_type": "code",
   "execution_count": 15,
   "id": "9065bfcb",
   "metadata": {},
   "outputs": [
    {
     "name": "stdout",
     "output_type": "stream",
     "text": [
      "Before: x_str = 'abcde'\n",
      "Error : 'str' object does not support item assignment\n",
      "After: x_str = 'abcde'\n"
     ]
    }
   ],
   "source": [
    "x_str = 'abcde'\n",
    "print(f'Before: {x_str = }')\n",
    "\n",
    "try:\n",
    "    x_str[1] = '2'\n",
    "except TypeError as e:\n",
    "    print(f'Error : {e}')\n",
    "print(f'After: {x_str = }')"
   ]
  },
  {
   "cell_type": "markdown",
   "id": "23e1cea4",
   "metadata": {},
   "source": [
    "### immutable: 튜플=> 원소 바꾸기 불가"
   ]
  },
  {
   "cell_type": "code",
   "execution_count": 16,
   "id": "c56957bd",
   "metadata": {},
   "outputs": [
    {
     "name": "stdout",
     "output_type": "stream",
     "text": [
      "Before: x_tuple = ('abcde', 12345)\n",
      "Error : 'tuple' object does not support item assignment\n",
      "After: x_tuple = ('abcde', 12345)\n"
     ]
    }
   ],
   "source": [
    "x_tuple = ('abcde', 12345)\n",
    "print(f'Before: {x_tuple = }')\n",
    "\n",
    "try: \n",
    "    x_tuple[1] = 'fghi'\n",
    "except TypeError as e:\n",
    "    print(f'Error : {e}')\n",
    "print(f'After: {x_tuple = }')"
   ]
  },
  {
   "cell_type": "markdown",
   "id": "c7216931",
   "metadata": {},
   "source": [
    "## 자료형 변환\n",
    "### 단일 자료형 변환 함수"
   ]
  },
  {
   "cell_type": "code",
   "execution_count": 18,
   "id": "3893aa70",
   "metadata": {},
   "outputs": [
    {
     "name": "stdout",
     "output_type": "stream",
     "text": [
      "12345는 <class 'int'>\n",
      "------------------------------\n",
      "12345.0는 <class 'float'>\n",
      "------------------------------\n",
      "12345는 <class 'str'>\n",
      "------------------------------\n",
      "True는 <class 'bool'>\n"
     ]
    }
   ],
   "source": [
    "var_x = 12345\n",
    "print(f'{var_x}는 {type(var_x)}', end='\\n'+'-'*30+'\\n')\n",
    "\n",
    "var_y = float(var_x)\n",
    "print(f'{var_y}는 {type(var_y)}', end='\\n'+'-'*30+'\\n')\n",
    "\n",
    "var_y = str(var_x)\n",
    "print(f'{var_y}는 {type(var_y)}', end='\\n'+'-'*30+'\\n')\n",
    "\n",
    "var_y = bool(var_x)\n",
    "print(f'{var_y}는 {type(var_y)}')"
   ]
  },
  {
   "cell_type": "markdown",
   "id": "fff6c3f2",
   "metadata": {},
   "source": [
    "### iterable 자료형 변환 함수"
   ]
  },
  {
   "cell_type": "code",
   "execution_count": 19,
   "id": "edfaadfe",
   "metadata": {},
   "outputs": [
    {
     "name": "stdout",
     "output_type": "stream",
     "text": [
      "range(-10, 0, 2)는 <class 'range'>\n",
      "------------------------------\n",
      "[-10, -8, -6, -4, -2]는 <class 'list'>\n",
      "------------------------------\n",
      "(-10, -8, -6, -4, -2)는 <class 'tuple'>\n",
      "------------------------------\n",
      "{-10, -8, -6, -4, -2}는 <class 'set'>\n"
     ]
    }
   ],
   "source": [
    "var_x = range(-10,0,2)\n",
    "print(f'{var_x}는 {type(var_x)}', end='\\n'+'-'*30+'\\n')\n",
    "\n",
    "var_y = list(var_x)\n",
    "print(f'{var_y}는 {type(var_y)}', end='\\n'+'-'*30+'\\n')\n",
    "\n",
    "var_y = tuple(var_x)\n",
    "print(f'{var_y}는 {type(var_y)}', end='\\n'+'-'*30+'\\n')\n",
    "\n",
    "var_y = set(var_x)\n",
    "print(f'{var_y}는 {type(var_y)}')"
   ]
  },
  {
   "cell_type": "code",
   "execution_count": 20,
   "id": "92940492",
   "metadata": {},
   "outputs": [
    {
     "name": "stdout",
     "output_type": "stream",
     "text": [
      "abcde는 <class 'str'>\n",
      "------------------------------\n",
      "['a', 'b', 'c', 'd', 'e']는 <class 'list'>\n",
      "------------------------------\n",
      "('a', 'b', 'c', 'd', 'e')는 <class 'tuple'>\n",
      "------------------------------\n",
      "{'b', 'e', 'a', 'c', 'd'}는 <class 'set'>\n"
     ]
    }
   ],
   "source": [
    "var_x = \"abcde\"\n",
    "print(f'{var_x}는 {type(var_x)}', end='\\n'+'-'*30+'\\n')\n",
    "\n",
    "var_y = list(var_x)\n",
    "print(f'{var_y}는 {type(var_y)}', end='\\n'+'-'*30+'\\n')\n",
    "\n",
    "var_y = tuple(var_x)\n",
    "print(f'{var_y}는 {type(var_y)}', end='\\n'+'-'*30+'\\n')\n",
    "\n",
    "var_y = set(var_x)\n",
    "print(f'{var_y}는 {type(var_y)}')"
   ]
  },
  {
   "cell_type": "markdown",
   "id": "9f479b7c",
   "metadata": {},
   "source": [
    "# 데이터 유형_응용\n",
    "### mutable: 리스트"
   ]
  },
  {
   "cell_type": "code",
   "execution_count": 55,
   "id": "2ab05051",
   "metadata": {},
   "outputs": [
    {
     "name": "stdout",
     "output_type": "stream",
     "text": [
      "Before: x_list =[{'이름': 'ChoYoungju'}, {'id': '12345'}, 'abc']\n",
      "After: x_list =[{'이름': 'ChoYoungju', 'ChoYoungju': 'Gildong Hong'}, {'id': '12345'}, 'abc']\n",
      "Error : name '이름' is not defined\n"
     ]
    }
   ],
   "source": [
    "x_dict = {'이름': 'ChoYoungju'}\n",
    "y_dict = {'id': '12345'}\n",
    "x_list = [x_dict, y_dict, 'abc']\n",
    "\n",
    "print(f'Before: {x_list =}')\n",
    "\n",
    "x_dict['ChoYoungju'] = 'Gildong Hong'\n",
    "# value(ChoYoungju)에서 value(Gildong Hong)로 수정할 수 없음. \n",
    "# 'Gildong Hong'은 x_dict 뒤에 추가됨\n",
    "print(f'After: {x_list =}')\n",
    "\n",
    "try: \n",
    "    x_dict[이름] = '별명'\n",
    "except NameError as e: \n",
    "    print(f'Error : {e}')\n",
    "# key는 변경 불가 "
   ]
  },
  {
   "cell_type": "markdown",
   "id": "283df328",
   "metadata": {},
   "source": [
    "### 단일 자료형 변환 함수"
   ]
  },
  {
   "cell_type": "code",
   "execution_count": 76,
   "id": "e9b4c154",
   "metadata": {},
   "outputs": [
    {
     "name": "stdout",
     "output_type": "stream",
     "text": [
      "12\n",
      "-0.5\n"
     ]
    }
   ],
   "source": [
    "var_x = 12.945\n",
    "var_y = int(var_x)\n",
    "\n",
    "print(var_y)\n",
    "# var_x(12.345)가 정수형으로 변환되어 소수점이 삭제됨\n",
    "\n",
    "var_x = 1/-2\n",
    "var_y = float(var_x)\n",
    "print(var_y)\n",
    "#분수도 적용 가능\n"
   ]
  },
  {
   "cell_type": "markdown",
   "id": "51da058f",
   "metadata": {},
   "source": [
    "### iterable 자료형 변환 함수"
   ]
  },
  {
   "cell_type": "code",
   "execution_count": 94,
   "id": "1a9cc084",
   "metadata": {},
   "outputs": [
    {
     "name": "stdout",
     "output_type": "stream",
     "text": [
      "[-1, 2, 5, 8]\n",
      "{8, 2, 5, -1}\n"
     ]
    }
   ],
   "source": [
    "var_x = range(-1,10,3)\n",
    "var_y = list(var_x)\n",
    "print(f'{var_y}')\n",
    "# 범위 내 최대로 증가 가능한 정수까지 출력\n",
    "\n",
    "var_y = set(var_x)\n",
    "print(f'{var_y}')\n",
    "#집합으로 변환하였을 때 순서에 변화가 생김 "
   ]
  },
  {
   "cell_type": "code",
   "execution_count": 109,
   "id": "ee818f94",
   "metadata": {},
   "outputs": [
    {
     "name": "stdout",
     "output_type": "stream",
     "text": [
      "['a', '1', '2', '3', '#', 'b', 'c', 'd', 'e']\n",
      "['123', 'abc', '--', '**']\n",
      "{'123', 'abc', '--', '**'}\n"
     ]
    }
   ],
   "source": [
    "var_x = 'a123#bcde' \n",
    "var_y = list(var_x)\n",
    "print(f'{var_y}')\n",
    "# var_x 내 문자의 순서대로 리스트 변환됨\n",
    "\n",
    "var_x = {'123', '123', '**', '--', 'abc'}\n",
    "var_y = list(var_x)\n",
    "print(f'{var_y}')\n",
    "# var_x 내에 여러 데이터가 있을 경우 데이터별로 리스트 변환\n",
    "# 리스트의 순서에 변화가 생김 \n",
    "# 중복 문자는 삭제됨 \n",
    "\n",
    "var_x = {'123', '123', '**', '--', 'abc'}\n",
    "var_y = set(var_x)\n",
    "print(f'{var_y}')\n",
    "# 집합 변환 시 순서에 변화가 생김\n",
    "# 중복 문자 삭제됨"
   ]
  }
 ],
 "metadata": {
  "kernelspec": {
   "display_name": "Python 3",
   "language": "python",
   "name": "python3"
  },
  "language_info": {
   "codemirror_mode": {
    "name": "ipython",
    "version": 3
   },
   "file_extension": ".py",
   "mimetype": "text/x-python",
   "name": "python",
   "nbconvert_exporter": "python",
   "pygments_lexer": "ipython3",
   "version": "3.13.2"
  }
 },
 "nbformat": 4,
 "nbformat_minor": 5
}
