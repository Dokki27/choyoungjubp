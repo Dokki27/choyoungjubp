{
 "cells": [
  {
   "cell_type": "markdown",
   "id": "3e13c1d7",
   "metadata": {},
   "source": [
    "### C431229 조영주\n",
    "# **데이터 연산_ 기본**\n",
    "## 연산\n",
    "### 산술 연산"
   ]
  },
  {
   "cell_type": "code",
   "execution_count": 1,
   "id": "2e6663fb",
   "metadata": {},
   "outputs": [
    {
     "name": "stdout",
     "output_type": "stream",
     "text": [
      "2+3 = 5\n",
      "2.0+3 = 5.0\n",
      "2.0+3.0 = 5.0\n",
      "'2'+'3' = '23'\n",
      "unsupported operand type(s) for +: 'int' and 'str'\n"
     ]
    }
   ],
   "source": [
    "print(f'{2+3 = }')\n",
    "print(f'{2.0+3 = }')\n",
    "print(f'{2.0+3.0 = }')\n",
    "print(f'{'2'+'3' = }')\n",
    "\n",
    "try:\n",
    "    print(f'{2+'3' = }')\n",
    "except Exception as e:\n",
    "    print(e)"
   ]
  },
  {
   "cell_type": "code",
   "execution_count": 2,
   "id": "04419ed7",
   "metadata": {},
   "outputs": [
    {
     "name": "stdout",
     "output_type": "stream",
     "text": [
      "2-3 = -1\n",
      "2.0-3 = -1.0\n",
      "2.0-3.0 = -1.0\n",
      "2*3 = 6\n",
      "2.0*3 = 6.0\n",
      "2.0*3.0 = 6.0\n",
      "2/3 = 0.6666666666666666\n",
      "2.0/3 = 0.6666666666666666\n",
      "2.0/3.0 = 0.6666666666666666\n"
     ]
    }
   ],
   "source": [
    "print(f'{2-3 = }')\n",
    "print(f'{2.0-3 = }')\n",
    "print(f'{2.0-3.0 = }')\n",
    "print(f'{2*3 = }')\n",
    "print(f'{2.0*3 = }')\n",
    "print(f'{2.0*3.0 = }')\n",
    "print(f'{2/3 = }')\n",
    "print(f'{2.0/3 = }')\n",
    "print(f'{2.0/3.0 = }')"
   ]
  },
  {
   "cell_type": "code",
   "execution_count": 3,
   "id": "1f1c96a3",
   "metadata": {},
   "outputs": [
    {
     "name": "stdout",
     "output_type": "stream",
     "text": [
      "20//3 = 6\n",
      "20%3 = 2\n"
     ]
    }
   ],
   "source": [
    "print(f'{20//3 = }')\n",
    "print(f'{20%3 = }')"
   ]
  },
  {
   "cell_type": "code",
   "execution_count": 4,
   "id": "957a6653",
   "metadata": {},
   "outputs": [
    {
     "name": "stdout",
     "output_type": "stream",
     "text": [
      "2**3 = 8\n"
     ]
    }
   ],
   "source": [
    "print(f'{2**3 = }')"
   ]
  },
  {
   "cell_type": "code",
   "execution_count": 5,
   "id": "c23c4ce7",
   "metadata": {},
   "outputs": [
    {
     "name": "stdout",
     "output_type": "stream",
     "text": [
      "var_x + var_x = 'AbcAbc'\n",
      "var_y + var_y = [100, 2, 3, 100, 2, 3]\n",
      "var_x * 3 = 'AbcAbcAbc'\n",
      "var_y * 3 = [100, 2, 3, 100, 2, 3, 100, 2, 3]\n"
     ]
    }
   ],
   "source": [
    "var_x = 'Abc'\n",
    "var_y = [100, 2, 3]\n",
    "print(f'{var_x + var_x = }')\n",
    "print(f'{var_y + var_y = }')\n",
    "print(f'{var_x * 3 = }')\n",
    "print(f'{var_y * 3 = }')"
   ]
  },
  {
   "cell_type": "markdown",
   "id": "622cd5b3",
   "metadata": {},
   "source": [
    "### 비교연산"
   ]
  },
  {
   "cell_type": "code",
   "execution_count": 8,
   "id": "bc5524d4",
   "metadata": {},
   "outputs": [
    {
     "name": "stdout",
     "output_type": "stream",
     "text": [
      "2==3 = False\n",
      "2!=3 = True\n",
      "2>3 = False\n",
      "2<3 = True\n",
      "2>=3 = False\n",
      "2<=3 = True\n"
     ]
    }
   ],
   "source": [
    "print(f'{2==3 = }')\n",
    "print(f'{2!=3 = }')\n",
    "print(f'{2>3 = }')\n",
    "print(f'{2<3 = }')\n",
    "print(f'{2>=3 = }')\n",
    "print(f'{2<=3 = }')"
   ]
  },
  {
   "cell_type": "code",
   "execution_count": 16,
   "id": "6ea9886d",
   "metadata": {},
   "outputs": [
    {
     "name": "stdout",
     "output_type": "stream",
     "text": [
      "(var_y == [1,2,3]) = True\n",
      "(var_y == (1,2,3)) = False\n",
      "(var_y == [1,2]) = False\n",
      "(var_y != [1,2]) = True\n",
      "(var_y > [1,2]) = True\n",
      "(var_y < [1,2]) = False\n"
     ]
    }
   ],
   "source": [
    "var_y = [1,2,3]\n",
    "print(f'{(var_y == [1,2,3]) = }')\n",
    "print(f'{(var_y == (1,2,3)) = }')\n",
    "print(f'{(var_y == [1,2]) = }')\n",
    "print(f'{(var_y != [1,2]) = }')\n",
    "print(f'{(var_y > [1,2]) = }')\n",
    "print(f'{(var_y < [1,2]) = }')"
   ]
  },
  {
   "cell_type": "markdown",
   "id": "b4615bf0",
   "metadata": {},
   "source": [
    "### 논리 연산"
   ]
  },
  {
   "cell_type": "code",
   "execution_count": 17,
   "id": "41a5adab",
   "metadata": {},
   "outputs": [
    {
     "data": {
      "text/plain": [
       "True"
      ]
     },
     "execution_count": 17,
     "metadata": {},
     "output_type": "execute_result"
    }
   ],
   "source": [
    "True and True"
   ]
  },
  {
   "cell_type": "code",
   "execution_count": 20,
   "id": "f0d88d0e",
   "metadata": {},
   "outputs": [
    {
     "name": "stdout",
     "output_type": "stream",
     "text": [
      "var_y = False\n",
      "(var_x and var_y) = False\n",
      "(var_x or var_y) = True\n",
      "(not var_x) = False\n"
     ]
    }
   ],
   "source": [
    "var_x = True\n",
    "var_y = (10 > 20)\n",
    "print(f'{var_y = }')\n",
    "print(f'{(var_x and var_y) = }')\n",
    "print(f'{(var_x or var_y) = }')\n",
    "print(f'{(not var_x) = }')"
   ]
  },
  {
   "cell_type": "code",
   "execution_count": 21,
   "id": "451f9cd3",
   "metadata": {},
   "outputs": [
    {
     "name": "stdout",
     "output_type": "stream",
     "text": [
      "(2==3) and (2!=3) = False\n"
     ]
    }
   ],
   "source": [
    "print(f'{(2==3) and (2!=3) = }')"
   ]
  },
  {
   "cell_type": "markdown",
   "id": "66658ccc",
   "metadata": {},
   "source": [
    "### 멤버십 연산"
   ]
  },
  {
   "cell_type": "code",
   "execution_count": 24,
   "id": "7c191c4d",
   "metadata": {},
   "outputs": [
    {
     "name": "stdout",
     "output_type": "stream",
     "text": [
      "(1 in var_y) = True\n",
      "('1' in var_y) = False\n",
      "(4 in var_y) = False\n",
      "(1 not in var_y) = False\n",
      "(4 not in var_y) = True\n"
     ]
    }
   ],
   "source": [
    "var_y = [1,2,3]\n",
    "print(f'{(1 in var_y) = }')\n",
    "print(f'{('1' in var_y) = }')\n",
    "print(f'{(4 in var_y) = }')\n",
    "print(f'{(1 not in var_y) = }')\n",
    "print(f'{(4 not in var_y) = }')"
   ]
  },
  {
   "cell_type": "markdown",
   "id": "bc3de37d",
   "metadata": {},
   "source": [
    "### 식별 연산"
   ]
  },
  {
   "cell_type": "code",
   "execution_count": 25,
   "id": "750291c5",
   "metadata": {},
   "outputs": [
    {
     "name": "stdout",
     "output_type": "stream",
     "text": [
      "(var_x == 10) = True\n",
      "(var_x is 10) = True\n"
     ]
    },
    {
     "name": "stderr",
     "output_type": "stream",
     "text": [
      "<>:3: SyntaxWarning: \"is\" with 'int' literal. Did you mean \"==\"?\n",
      "<>:3: SyntaxWarning: \"is\" with 'int' literal. Did you mean \"==\"?\n",
      "C:\\Users\\cyj12\\AppData\\Local\\Temp\\ipykernel_23896\\2673088913.py:3: SyntaxWarning: \"is\" with 'int' literal. Did you mean \"==\"?\n",
      "  print(f'{(var_x is 10) = }')\n"
     ]
    }
   ],
   "source": [
    "var_x = 10\n",
    "print(f'{(var_x == 10) = }')\n",
    "print(f'{(var_x is 10) = }')"
   ]
  },
  {
   "cell_type": "code",
   "execution_count": 26,
   "id": "c25c1dfe",
   "metadata": {},
   "outputs": [
    {
     "name": "stdout",
     "output_type": "stream",
     "text": [
      "(var_x is var_y) = False\n",
      "(var_x is var_z) = True\n",
      "(var_x is not var_y) = True\n",
      "(var_x is not var_z) = False\n"
     ]
    }
   ],
   "source": [
    "var_x = 10\n",
    "var_y = 10.0\n",
    "var_z = var_x\n",
    "\n",
    "print(f'{(var_x is var_y) = }')\n",
    "print(f'{(var_x is var_z) = }')\n",
    "print(f'{(var_x is not var_y) = }')\n",
    "print(f'{(var_x is not var_z) = }')"
   ]
  },
  {
   "cell_type": "markdown",
   "id": "a4f545df",
   "metadata": {},
   "source": [
    "### 복합 대입 연산"
   ]
  },
  {
   "cell_type": "code",
   "execution_count": 28,
   "id": "24341459",
   "metadata": {},
   "outputs": [
    {
     "name": "stdout",
     "output_type": "stream",
     "text": [
      "2\n"
     ]
    }
   ],
   "source": [
    "var_x = 1\n",
    "var_x += 1\n",
    "print(var_x)"
   ]
  },
  {
   "cell_type": "code",
   "execution_count": 29,
   "id": "8de5ac60",
   "metadata": {},
   "outputs": [
    {
     "name": "stdout",
     "output_type": "stream",
     "text": [
      "11\n",
      "10\n",
      "20\n",
      "10.0\n",
      "5.0\n",
      "1.0\n",
      "1.0\n"
     ]
    }
   ],
   "source": [
    "var_x = 1\n",
    "var_x += 10; print(var_x)\n",
    "var_x -= 1; print(var_x)\n",
    "var_x *= 2; print(var_x)\n",
    "var_x /= 2; print(var_x)\n",
    "var_x //= 2; print(var_x)\n",
    "var_x %= 2; print(var_x)\n",
    "var_x **= 2; print(var_x)"
   ]
  },
  {
   "cell_type": "markdown",
   "id": "e2b91262",
   "metadata": {},
   "source": [
    "## 연산의 중첩\n",
    "### 연산의 우선순위"
   ]
  },
  {
   "cell_type": "code",
   "execution_count": 31,
   "id": "e09eb573",
   "metadata": {},
   "outputs": [
    {
     "name": "stdout",
     "output_type": "stream",
     "text": [
      "13\n",
      "256\n",
      "True\n",
      "False\n",
      "False\n"
     ]
    }
   ],
   "source": [
    "print(2**3+5)\n",
    "print(2**(3+5))\n",
    "print(2+3<=4*5)\n",
    "print(not 2+3<=4*5)\n",
    "print(not ((2+3)<=(4*5)))"
   ]
  },
  {
   "cell_type": "markdown",
   "id": "15e8e227",
   "metadata": {},
   "source": [
    "# **데이터 연산_응용**"
   ]
  },
  {
   "cell_type": "markdown",
   "id": "65541ba2",
   "metadata": {},
   "source": [
    "### 산술 연산"
   ]
  },
  {
   "cell_type": "code",
   "execution_count": null,
   "id": "e7523ade",
   "metadata": {},
   "outputs": [
    {
     "name": "stdout",
     "output_type": "stream",
     "text": [
      "'2.0'+'3.0' = '2.03.0'\n",
      "'2.0'+'a1' = '2.0a1'\n",
      "unsupported operand type(s) for +: 'float' and 'str'\n"
     ]
    }
   ],
   "source": [
    "try:\n",
    "    print(f'{2.0+'3' = }')\n",
    "except Exception as e:\n",
    "    print(e)\n",
    "# 실수 + 문자열 또한 에러"
   ]
  },
  {
   "cell_type": "code",
   "execution_count": 52,
   "id": "985dcedc",
   "metadata": {},
   "outputs": [
    {
     "name": "stdout",
     "output_type": "stream",
     "text": [
      "{1, 2.0, '2-3', 4, -1}\n",
      "{1, 2.0, '2-3', 4, -1}\n"
     ]
    }
   ],
   "source": [
    "list_x = {2-3,4-5, 4%7, 6//4, 2.0, '2-3'}\n",
    "print(list_x)\n",
    "#list_x로 나타날 때 문자열은 계산되지 않음\n",
    "#데이터의 순서가 바뀜\n",
    "#중복되는 값(-1)은 하나로 나타남\n",
    "\n",
    "set_x = {2-3,4-5, 4%7, 6//4, 2.0, '2-3'}\n",
    "print(set_x)\n",
    "# 집합 또한 순서가 바뀌며 중복되는 값은 하나로 나타남"
   ]
  },
  {
   "cell_type": "code",
   "execution_count": 4,
   "id": "43cc0f0c",
   "metadata": {},
   "outputs": [
    {
     "name": "stdout",
     "output_type": "stream",
     "text": [
      "var_x * 2**3 = [33, 2, 'a', -1, 33, 2, 'a', -1, 33, 2, 'a', -1, 33, 2, 'a', -1, 33, 2, 'a', -1, 33, 2, 'a', -1, 33, 2, 'a', -1, 33, 2, 'a', -1]\n",
      "unsupported operand type(s) for -: 'list' and 'list'\n"
     ]
    }
   ],
   "source": [
    "var_x = [33, 2, 'a', -1]\n",
    "set(var_x + var_x)\n",
    "set(var_x * 3)\n",
    "# 집합 변환시 중복값은 나타나지 않음\n",
    "\n",
    "print(f'{var_x * 2**3 = }')\n",
    "#2의 3제곱과 문자열의 곱 \n",
    "\n",
    "\n",
    "list_x = [33, 2, 'a', 4]\n",
    "list_y = [33, 1, 'a', 4]\n",
    "try:\n",
    "    print(f'{list_x - list_y = }')\n",
    "except TypeError as e:\n",
    "    print(e)\n",
    "# 리스트와 리스트는 뺄셈 불가능"
   ]
  },
  {
   "cell_type": "markdown",
   "id": "9d68ea19",
   "metadata": {},
   "source": [
    "### 비교 연산"
   ]
  },
  {
   "cell_type": "code",
   "execution_count": null,
   "id": "92616323",
   "metadata": {},
   "outputs": [
    {
     "name": "stdout",
     "output_type": "stream",
     "text": [
      "False\n",
      "'<' not supported between instances of 'str' and 'int'\n",
      "True\n"
     ]
    }
   ],
   "source": [
    "var_x = [1,2,3]\n",
    "var_y = '1,2,3'\n",
    "print(var_x == var_y) \n",
    "#var_x와 var_y는 다름 "
   ]
  },
  {
   "cell_type": "code",
   "execution_count": 92,
   "id": "43144b2e",
   "metadata": {},
   "outputs": [
    {
     "name": "stdout",
     "output_type": "stream",
     "text": [
      "'<' not supported between instances of 'str' and 'int'\n",
      "'a'<'b' = True\n"
     ]
    }
   ],
   "source": [
    "try:\n",
    "    print(f'{'a'<1 = }')\n",
    "except TypeError as e:\n",
    "    print(e)\n",
    "#문자열과 정수는 비교 불가 \n",
    "\n",
    "print(f'{'a'<'b' = }')\n",
    "#문자열과 문자열 비교 가능"
   ]
  },
  {
   "cell_type": "code",
   "execution_count": 95,
   "id": "b28311c1",
   "metadata": {},
   "outputs": [
    {
     "name": "stdout",
     "output_type": "stream",
     "text": [
      "(var_x > var_y) = False\n"
     ]
    }
   ],
   "source": [
    "var_x = ['1','2','3']\n",
    "var_y = ['a','b']\n",
    "\n",
    "print(f'{(var_x > var_y) = }')\n",
    "#var_x는 var_y보다 크지 않음"
   ]
  },
  {
   "cell_type": "markdown",
   "id": "d1d77bb1",
   "metadata": {},
   "source": [
    "### 논리 연산"
   ]
  },
  {
   "cell_type": "code",
   "execution_count": 16,
   "id": "dc558b95",
   "metadata": {},
   "outputs": [
    {
     "name": "stdout",
     "output_type": "stream",
     "text": [
      "var_y = False\n",
      "False\n",
      "False\n",
      "(not var_x) = True\n"
     ]
    }
   ],
   "source": [
    "var_x = False\n",
    "var_y = (9%2 > 3-2)\n",
    "\n",
    "print(f'{var_y = }')\n",
    "# var_y는 False\n",
    "print(f'{var_x and var_y}')\n",
    "# var_x와 var_y 모두 False\n",
    "print(f'{var_x or var_y}')\n",
    "# var_x와 var_y 둘 중 어느 것도 True가 아니기 때문에 False\n",
    "print(f'{(not var_x) = }')\n",
    "# var_x의 논리부정은 True"
   ]
  },
  {
   "cell_type": "markdown",
   "id": "39e96e51",
   "metadata": {},
   "source": [
    "### 멤버십 연산"
   ]
  },
  {
   "cell_type": "code",
   "execution_count": 36,
   "id": "a3fdca25",
   "metadata": {},
   "outputs": [
    {
     "name": "stdout",
     "output_type": "stream",
     "text": [
      "argument of type 'int' is not iterable\n"
     ]
    }
   ],
   "source": [
    "list_x = [1, '2', 'a', '**']\n",
    "\n",
    "try:\n",
    "    print(f'{(1 in list_x[0]) = }')\n",
    "except TypeError as e:\n",
    "    print(e)\n",
    "\n",
    "# 잘못된 표현\n",
    "# 오른쪽 시퀀스는 반복 가능한 문자열, 리스트 등이어야 함"
   ]
  },
  {
   "cell_type": "markdown",
   "id": "165aa2eb",
   "metadata": {},
   "source": [
    "### 식별 연산"
   ]
  },
  {
   "cell_type": "code",
   "execution_count": 37,
   "id": "aef4609f",
   "metadata": {},
   "outputs": [
    {
     "name": "stdout",
     "output_type": "stream",
     "text": [
      "(list_x[0] == 1) = True\n"
     ]
    }
   ],
   "source": [
    "list_x = [1, '2', 'a', '**']\n",
    "\n",
    "print(f'{(list_x[0] == 1) = }')\n",
    "# 리스트의 0번째는 1 (True)"
   ]
  },
  {
   "cell_type": "code",
   "execution_count": 49,
   "id": "d4de31dc",
   "metadata": {},
   "outputs": [
    {
     "name": "stdout",
     "output_type": "stream",
     "text": [
      "(var_x == var_y) = True\n",
      "(var_x is var_y) = True\n"
     ]
    }
   ],
   "source": [
    "var_x = 'a'\n",
    "var_y = 'a'*1\n",
    "\n",
    "print(f'{(var_x == var_y) = }')\n",
    "# var_x와 var_y의 값이 같음 \n",
    "\n",
    "print(f'{(var_x is var_y) = }')\n",
    "# var_x와 var_y의 주소가 같음"
   ]
  },
  {
   "cell_type": "markdown",
   "id": "18f7ebf1",
   "metadata": {},
   "source": [
    "### 복합 대입 연산"
   ]
  },
  {
   "cell_type": "code",
   "execution_count": 63,
   "id": "b074fa00",
   "metadata": {},
   "outputs": [
    {
     "name": "stdout",
     "output_type": "stream",
     "text": [
      "3\n",
      "aaa\n",
      "unsupported operand type(s) for +=: 'int' and 'str'\n"
     ]
    }
   ],
   "source": [
    "var_x = 2\n",
    "var_y = 1\n",
    "var_y += var_x\n",
    "print(var_y)\n",
    "# a 자리에 var_x도 대입 가능 \n",
    "# var_x(2)+var_y(1)=3\n",
    "\n",
    "var_y *= 'a'\n",
    "print(var_y)\n",
    "# a 자리에 문자 대입하여 곱셈 다능 \n",
    "# var_y(3)*a=aaa\n",
    "\n",
    "var_y = 3\n",
    "try:\n",
    "   var_y += 'a'; print(var_y)\n",
    "except TypeError as e:\n",
    "    print(e)\n",
    "# 문자와 숫자는 덧셈 불가능"
   ]
  }
 ],
 "metadata": {
  "kernelspec": {
   "display_name": "Python 3",
   "language": "python",
   "name": "python3"
  },
  "language_info": {
   "codemirror_mode": {
    "name": "ipython",
    "version": 3
   },
   "file_extension": ".py",
   "mimetype": "text/x-python",
   "name": "python",
   "nbconvert_exporter": "python",
   "pygments_lexer": "ipython3",
   "version": "3.13.2"
  }
 },
 "nbformat": 4,
 "nbformat_minor": 5
}
