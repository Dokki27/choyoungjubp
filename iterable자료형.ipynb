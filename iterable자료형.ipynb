{
 "cells": [
  {
   "cell_type": "markdown",
   "id": "3256df5c",
   "metadata": {},
   "source": [
    "### C431229 조영주 \n",
    "# **iterable자료형**\n",
    "## 인덱싱과 슬라이싱\n",
    "### 인덱싱"
   ]
  },
  {
   "cell_type": "code",
   "execution_count": 299,
   "id": "7756ac62",
   "metadata": {},
   "outputs": [
    {
     "name": "stdout",
     "output_type": "stream",
     "text": [
      "0\n",
      "1\n",
      "2\n",
      "3\n",
      "4\n"
     ]
    }
   ],
   "source": [
    "x_list = [0, 1, 2, 3, 4]\n",
    "print(x_list[0])\n",
    "print(x_list[1])\n",
    "print(x_list[2])\n",
    "print(x_list[3])\n",
    "print(x_list[4])"
   ]
  },
  {
   "cell_type": "code",
   "execution_count": 300,
   "id": "f8ca83aa",
   "metadata": {},
   "outputs": [
    {
     "name": "stdout",
     "output_type": "stream",
     "text": [
      "4\n",
      "3\n",
      "2\n",
      "1\n",
      "0\n"
     ]
    }
   ],
   "source": [
    "x_list = [0, 1, 2, 3, 4]\n",
    "print(x_list[-1])\n",
    "print(x_list[-2])\n",
    "print(x_list[-3])\n",
    "print(x_list[-4])\n",
    "print(x_list[-5])"
   ]
  },
  {
   "cell_type": "code",
   "execution_count": 301,
   "id": "8e7c8185",
   "metadata": {},
   "outputs": [
    {
     "name": "stdout",
     "output_type": "stream",
     "text": [
      "list index out of range\n"
     ]
    }
   ],
   "source": [
    "try:\n",
    "    print(x_list[5])\n",
    "except IndexError as e:\n",
    "    print(e)\n"
   ]
  },
  {
   "cell_type": "code",
   "execution_count": 302,
   "id": "cb32df22",
   "metadata": {},
   "outputs": [
    {
     "name": "stdout",
     "output_type": "stream",
     "text": [
      "x_list = [1, 2, 3, 4, 5] \t=>x_list[0] = 1\n",
      "x_tuple = [1, 2, 3, 4, 5] \t=>x_tuple[-1] = 5\n"
     ]
    }
   ],
   "source": [
    "x_list = [1, 2, 3, 4, 5]\n",
    "x_tuple = [1, 2, 3, 4, 5]\n",
    "print(f'{x_list = } \\t=>{x_list[0] = }')\n",
    "print(f'{x_tuple = } \\t=>{x_tuple[-1] = }')"
   ]
  },
  {
   "cell_type": "code",
   "execution_count": 303,
   "id": "ddaec0a7",
   "metadata": {},
   "outputs": [
    {
     "name": "stdout",
     "output_type": "stream",
     "text": [
      "x_dict = {'name': ['김홍익', '이파이'], 'id': [12345, 67890]} \t=> x_dict[\"name\"][0] = '김홍익'\n"
     ]
    }
   ],
   "source": [
    "x_dict = {'name' : ['김홍익', '이파이'], 'id':[12345, 67890]}\n",
    "print(f'{x_dict = } \\t=> {x_dict[\"name\"][0] = }')"
   ]
  },
  {
   "cell_type": "code",
   "execution_count": 304,
   "id": "2ad702c7",
   "metadata": {},
   "outputs": [
    {
     "name": "stdout",
     "output_type": "stream",
     "text": [
      "x_str = 'Hello World!' \t\t=> x_str[0] = 'H'\n",
      "x_str = 'Hello World!' \t\t=> x_str[3] = 'l'\n"
     ]
    }
   ],
   "source": [
    "x_str = 'Hello World!'\n",
    "print(f'{x_str = } \\t\\t=> {x_str[0] = }')\n",
    "print(f'{x_str = } \\t\\t=> {x_str[3] = }')"
   ]
  },
  {
   "cell_type": "markdown",
   "id": "d626465b",
   "metadata": {},
   "source": [
    "### 슬라이싱"
   ]
  },
  {
   "cell_type": "code",
   "execution_count": 305,
   "id": "2f5a724b",
   "metadata": {},
   "outputs": [
    {
     "name": "stdout",
     "output_type": "stream",
     "text": [
      "[1, 2]\n",
      "[1, 2, 3, 4]\n",
      "[0, 1, 2]\n",
      "[0, 1, 2, 3, 4]\n"
     ]
    }
   ],
   "source": [
    "x_list = [0, 1, 2, 3, 4]\n",
    "print(x_list[1:3])\n",
    "print(x_list[1:])\n",
    "print(x_list[:3])\n",
    "print(x_list[:])"
   ]
  },
  {
   "cell_type": "code",
   "execution_count": 306,
   "id": "51cff770",
   "metadata": {},
   "outputs": [
    {
     "name": "stdout",
     "output_type": "stream",
     "text": [
      "[1, 2, 3, 4]\n"
     ]
    }
   ],
   "source": [
    "try:\n",
    "    print(x_list[1:10])\n",
    "except IndexError as e:\n",
    "    print(e)"
   ]
  },
  {
   "cell_type": "code",
   "execution_count": 307,
   "id": "1df1bb8a",
   "metadata": {},
   "outputs": [
    {
     "name": "stdout",
     "output_type": "stream",
     "text": [
      "x_list = [1, 2, 3, 4, 5] \t=> x_list[0:3] = [1, 2, 3]\n",
      "x_tuple = (1, 2, 3, 4, 5) \t=> x_tuple[-1:-4:-1] = (5, 4, 3)\n"
     ]
    }
   ],
   "source": [
    "x_list = [1, 2, 3, 4, 5]\n",
    "x_tuple = (1, 2, 3, 4, 5)\n",
    "print(f'{x_list = } \\t=> {x_list[0:3] = }')\n",
    "print(f'{x_tuple = } \\t=> {x_tuple[-1:-4:-1] = }')"
   ]
  },
  {
   "cell_type": "code",
   "execution_count": 308,
   "id": "6cf3d42c",
   "metadata": {},
   "outputs": [
    {
     "name": "stdout",
     "output_type": "stream",
     "text": [
      "x_dict = {'name': ['김홍익', '이파이'], 'id': [12345, 67890]} \t=> x_dict[\"name\"][0:1] = ['김홍익']\n"
     ]
    }
   ],
   "source": [
    "x_dict = {'name': ['김홍익', '이파이'], 'id':[12345, 67890]}\n",
    "print(f'{x_dict = } \\t=> {x_dict[\"name\"][0:1] = }')"
   ]
  },
  {
   "cell_type": "code",
   "execution_count": 309,
   "id": "4d9e2c83",
   "metadata": {},
   "outputs": [
    {
     "name": "stdout",
     "output_type": "stream",
     "text": [
      "x_str = 'Hello World!' \t\t==> x_str[0:3] = 'Hel'\n",
      "x_str = 'Hello World!' \t\t==> x_str[-2:-10:-2] = 'drWo'\n"
     ]
    }
   ],
   "source": [
    "x_str = 'Hello World!'\n",
    "print(f'{x_str = } \\t\\t==> {x_str[0:3] = }')\n",
    "print(f'{x_str = } \\t\\t==> {x_str[-2:-10:-2] = }')"
   ]
  },
  {
   "cell_type": "markdown",
   "id": "5d5bbdac",
   "metadata": {},
   "source": [
    "## 얇은 복사와 깊은 복사 \n",
    "#### immutable 객체의 assignment 예시"
   ]
  },
  {
   "cell_type": "code",
   "execution_count": 310,
   "id": "4e99b447",
   "metadata": {},
   "outputs": [
    {
     "name": "stdout",
     "output_type": "stream",
     "text": [
      "x = {1, 2, 3} \t=> id(x) = 1542287222688\n",
      "y = {1, 2, 3} \t=> id(y) = 1542287222688\n",
      "x = {1, 2, 3} \t=> id(x) = 1542287222688\n",
      "y = {1, 3, 20} \t=> id(y) = 1542287216864\n"
     ]
    }
   ],
   "source": [
    "x = {1,2,3}\n",
    "y = x\n",
    "print(f'{x = } \\t=> {id(x) = }')\n",
    "print(f'{y = } \\t=> {id(y) = }')\n",
    "\n",
    "y = {1,20,3}\n",
    "print(f'{x = } \\t=> {id(x) = }')\n",
    "print(f'{y = } \\t=> {id(y) = }')"
   ]
  },
  {
   "cell_type": "markdown",
   "id": "0f0426af",
   "metadata": {},
   "source": [
    "### mutable 객체의 얕은 복사 예시"
   ]
  },
  {
   "cell_type": "code",
   "execution_count": 311,
   "id": "6b2cd775",
   "metadata": {},
   "outputs": [
    {
     "name": "stdout",
     "output_type": "stream",
     "text": [
      "x = [1, 2, 3] \t=> id(x) = 1542274479808\n",
      "y = [1, 2, 3] \t=> id(y) = 1542274479808\n"
     ]
    }
   ],
   "source": [
    "x = [1,2,3]\n",
    "y = x\n",
    "print(f'{x = } \\t=> {id(x) = }')\n",
    "print(f'{y = } \\t=> {id(y) = }')"
   ]
  },
  {
   "cell_type": "code",
   "execution_count": 312,
   "id": "23d0d853",
   "metadata": {},
   "outputs": [
    {
     "name": "stdout",
     "output_type": "stream",
     "text": [
      "x = [1, 20, 3] \t=> id(x) = 1542274479808\n",
      "y = [1, 20, 3] \t=> id(y) = 1542274479808\n"
     ]
    }
   ],
   "source": [
    "y[1] = 20\n",
    "\n",
    "print(f'{x = } \\t=> {id(x) = }')\n",
    "print(f'{y = } \\t=> {id(y) = }')"
   ]
  },
  {
   "cell_type": "markdown",
   "id": "82fefabc",
   "metadata": {},
   "source": [
    "### mutable 객체의 깊은 복사 예시 "
   ]
  },
  {
   "cell_type": "code",
   "execution_count": 313,
   "id": "67f55b2c",
   "metadata": {},
   "outputs": [
    {
     "name": "stdout",
     "output_type": "stream",
     "text": [
      "x = [1, 2, 3] \t=>id(x) = 1542274389632\n",
      "y = [1, 2, 3] \t=>id(y) = 1542274489408\n"
     ]
    }
   ],
   "source": [
    "x = [1,2,3]\n",
    "y = x.copy()\n",
    "\n",
    "print(f'{x = } \\t=>{id(x) = }')\n",
    "print(f'{y = } \\t=>{id(y) = }')"
   ]
  },
  {
   "cell_type": "code",
   "execution_count": 314,
   "id": "9060d6f6",
   "metadata": {},
   "outputs": [
    {
     "name": "stdout",
     "output_type": "stream",
     "text": [
      "x = [1, 2, 3] \t=>id(x) = 1542274389632\n",
      "y = [1, 20, 3] \t=>id(y) = 1542274489408\n"
     ]
    }
   ],
   "source": [
    "y[1] = 20\n",
    "print(f'{x = } \\t=>{id(x) = }')\n",
    "print(f'{y = } \\t=>{id(y) = }')"
   ]
  },
  {
   "cell_type": "markdown",
   "id": "7e6960ff",
   "metadata": {},
   "source": [
    "## 리스트와 튜플\n",
    "### 기본 사용법"
   ]
  },
  {
   "cell_type": "code",
   "execution_count": 315,
   "id": "dda85e2a",
   "metadata": {},
   "outputs": [
    {
     "name": "stdout",
     "output_type": "stream",
     "text": [
      "x_list는 <class 'list'>이고, x_tuple은 <class 'tuple'>이다.\n"
     ]
    }
   ],
   "source": [
    "x_list = [1, 2, 3, 4, 5]\n",
    "x_tuple = (1, 2, 3, 4, 5)\n",
    "\n",
    "print(f'x_list는 {type(x_list)}이고, x_tuple은 {type(x_tuple)}이다.')"
   ]
  },
  {
   "cell_type": "code",
   "execution_count": 316,
   "id": "8469facf",
   "metadata": {},
   "outputs": [
    {
     "name": "stdout",
     "output_type": "stream",
     "text": [
      "Before: x_list =[1, 2, 3, 4, 5]\n",
      "After : x_list = [1, '2', 3, 5]\n"
     ]
    }
   ],
   "source": [
    "print(f'Before: {x_list =}')\n",
    "\n",
    "try:\n",
    "    x_list[1] = '2'\n",
    "    del x_list[3]\n",
    "except TypeError as e:\n",
    "    print(f'Error : {e}')\n",
    "print(f'After : {x_list = }')"
   ]
  },
  {
   "cell_type": "code",
   "execution_count": 317,
   "id": "ef9f623d",
   "metadata": {},
   "outputs": [
    {
     "name": "stdout",
     "output_type": "stream",
     "text": [
      "Before: x_tuple =(1, 2, 3, 4, 5)\n",
      "Error : 'tuple' object does not support item assignment\n",
      "Error : 'tuple' object doesn't support item deletion\n",
      "After : x_tuple = (1, 2, 3, 4, 5)\n"
     ]
    }
   ],
   "source": [
    "print(f'Before: {x_tuple =}')\n",
    "\n",
    "try:\n",
    "    x_tuple[1] = '2'\n",
    "except TypeError as e:\n",
    "    print(f'Error : {e}')\n",
    "\n",
    "try:\n",
    "    del x_tuple[3]\n",
    "except TypeError as e:\n",
    "    print(f'Error : {e}')\n",
    "\n",
    "print(f'After : {x_tuple = }')"
   ]
  },
  {
   "cell_type": "markdown",
   "id": "edf29c79",
   "metadata": {},
   "source": [
    "### 내장함수를 이용한 리스트와 튜플 다루기 "
   ]
  },
  {
   "cell_type": "code",
   "execution_count": 318,
   "id": "1c58c9c7",
   "metadata": {},
   "outputs": [
    {
     "name": "stdout",
     "output_type": "stream",
     "text": [
      "len(x_list) = 5\n",
      "sum(x_list) = 10\n",
      "min(x_list) = 0\n",
      "max(x_list) = 4\n",
      "sorted(x_list) = [0, 1, 2, 3, 4]\n",
      "sorted(x_list, reverse=True) = [4, 3, 2, 1, 0]\n",
      "all(x_list) = False\n",
      "any(x_list) = True\n"
     ]
    }
   ],
   "source": [
    "x_list = [0, 1, 2, 3, 4]\n",
    "print(f'{len(x_list) = }')\n",
    "print(f'{sum(x_list) = }')\n",
    "print(f'{min(x_list) = }')\n",
    "print(f'{max(x_list) = }')\n",
    "print(f'{sorted(x_list) = }')\n",
    "print(f'{sorted(x_list, reverse=True) = }')\n",
    "print(f'{all(x_list) = }')\n",
    "print(f'{any(x_list) = }')"
   ]
  },
  {
   "cell_type": "markdown",
   "id": "fc2af1d9",
   "metadata": {},
   "source": [
    "### 객체 메서드를 이용한 리스트와 튜플 다루기"
   ]
  },
  {
   "cell_type": "code",
   "execution_count": 319,
   "id": "4e1576a5",
   "metadata": {},
   "outputs": [
    {
     "name": "stdout",
     "output_type": "stream",
     "text": [
      "['__add__', '__class__', '__class_getitem__', '__contains__', '__delattr__', '__delitem__', '__dir__', '__doc__', '__eq__', '__format__', '__ge__', '__getattribute__', '__getitem__', '__getstate__', '__gt__', '__hash__', '__iadd__', '__imul__', '__init__', '__init_subclass__', '__iter__', '__le__', '__len__', '__lt__', '__mul__', '__ne__', '__new__', '__reduce__', '__reduce_ex__', '__repr__', '__reversed__', '__rmul__', '__setattr__', '__setitem__', '__sizeof__', '__str__', '__subclasshook__', 'append', 'clear', 'copy', 'count', 'extend', 'index', 'insert', 'pop', 'remove', 'reverse', 'sort']\n",
      "================================================================================\n",
      "['__add__', '__class__', '__class_getitem__', '__contains__', '__delattr__', '__dir__', '__doc__', '__eq__', '__format__', '__ge__', '__getattribute__', '__getitem__', '__getnewargs__', '__getstate__', '__gt__', '__hash__', '__init__', '__init_subclass__', '__iter__', '__le__', '__len__', '__lt__', '__mul__', '__ne__', '__new__', '__reduce__', '__reduce_ex__', '__repr__', '__rmul__', '__setattr__', '__sizeof__', '__str__', '__subclasshook__', 'count', 'index']\n"
     ]
    }
   ],
   "source": [
    "print(dir(x_list), end='\\n'+'='*80+'\\n')\n",
    "print(dir(x_tuple))"
   ]
  },
  {
   "cell_type": "markdown",
   "id": "568fd6da",
   "metadata": {},
   "source": [
    "### 각 메서드의 기능 "
   ]
  },
  {
   "cell_type": "code",
   "execution_count": 320,
   "id": "ae87e00b",
   "metadata": {},
   "outputs": [
    {
     "name": "stdout",
     "output_type": "stream",
     "text": [
      "x_list = [1, 2, 3, 4, 5, 2, 3, 2]\n",
      "x_list.count(2) = 3\n",
      "x_list.index(2) = 1\n"
     ]
    }
   ],
   "source": [
    "x_list = [1, 2, 3, 4, 5, 2, 3, 2]\n",
    "print(f'{x_list = }')\n",
    "print(f'{x_list.count(2) = }')\n",
    "print(f'{x_list.index(2) = }')"
   ]
  },
  {
   "cell_type": "code",
   "execution_count": 321,
   "id": "294da4c7",
   "metadata": {},
   "outputs": [
    {
     "name": "stdout",
     "output_type": "stream",
     "text": [
      "y_list = [1, 2, 3, 4, 5, 2, 3, 2]\n",
      "x_list is y_list = False\n",
      "id(x_list) = 1542273410560, id(y_list) = 1542274496320\n"
     ]
    }
   ],
   "source": [
    "y_list = x_list.copy()\n",
    "print(f'{y_list = }')\n",
    "print(f'{x_list is y_list = }')\n",
    "print(f'{id(x_list) = }, {id(y_list) = }')"
   ]
  },
  {
   "cell_type": "code",
   "execution_count": 322,
   "id": "480b3557",
   "metadata": {},
   "outputs": [
    {
     "name": "stdout",
     "output_type": "stream",
     "text": [
      "x_list = [2, 3, 2, 5, 4, 3, 2, 1]\n"
     ]
    }
   ],
   "source": [
    "x_list.reverse()\n",
    "print(f'{x_list = }')"
   ]
  },
  {
   "cell_type": "code",
   "execution_count": 323,
   "id": "6b646a12",
   "metadata": {},
   "outputs": [
    {
     "name": "stdout",
     "output_type": "stream",
     "text": [
      "x_list = [1, 2, 2, 2, 3, 3, 4, 5]\n"
     ]
    }
   ],
   "source": [
    "x_list.sort()\n",
    "print(f'{x_list = }')"
   ]
  },
  {
   "cell_type": "code",
   "execution_count": 324,
   "id": "29b46cf9",
   "metadata": {},
   "outputs": [
    {
     "name": "stdout",
     "output_type": "stream",
     "text": [
      "x_list = [1, 2, 2, 2, 3, 3, 4, 5, 6]\n"
     ]
    }
   ],
   "source": [
    "x_list.append(6)\n",
    "print(f'{x_list = }')"
   ]
  },
  {
   "cell_type": "code",
   "execution_count": 325,
   "id": "8a51d878",
   "metadata": {},
   "outputs": [
    {
     "name": "stdout",
     "output_type": "stream",
     "text": [
      "x_list = [1, 2, 2, 2, 3, 3, 4, 5, 6, 7, 8, 9]\n"
     ]
    }
   ],
   "source": [
    "x_list.extend([7, 8, 9])\n",
    "print(f'{x_list = }')"
   ]
  },
  {
   "cell_type": "code",
   "execution_count": 326,
   "id": "bd08b3ac",
   "metadata": {},
   "outputs": [
    {
     "name": "stdout",
     "output_type": "stream",
     "text": [
      "x_list = [1, 2, 2, 2, 3, 3, 4, 5, 6, 7, 8, 9, [10, 11, 12]]\n"
     ]
    }
   ],
   "source": [
    "x_list.append([10, 11, 12])\n",
    "print(f'{x_list = }')"
   ]
  },
  {
   "cell_type": "code",
   "execution_count": 327,
   "id": "de6c375b",
   "metadata": {},
   "outputs": [
    {
     "name": "stdout",
     "output_type": "stream",
     "text": [
      "x_list = [1, 2, 2, 3.5, 2, 3, 3, 4, 5, 6, 7, 8, 9, [10, 11, 12]]\n"
     ]
    }
   ],
   "source": [
    "x_list.insert(3, 3.5)\n",
    "print(f'{x_list = }')"
   ]
  },
  {
   "cell_type": "code",
   "execution_count": 328,
   "id": "4d4cc1c1",
   "metadata": {},
   "outputs": [
    {
     "name": "stdout",
     "output_type": "stream",
     "text": [
      "x_list = [1, 2, 2, 2, 3, 3, 4, 5, 6, 7, 8, 9, [10, 11, 12]]\n"
     ]
    }
   ],
   "source": [
    "x_list.remove(3.5)\n",
    "print(f'{x_list = }')"
   ]
  },
  {
   "cell_type": "code",
   "execution_count": 329,
   "id": "85c02046",
   "metadata": {},
   "outputs": [
    {
     "name": "stdout",
     "output_type": "stream",
     "text": [
      "x_list = [1, 2, 2, 2, 3, 3, 4, 5, 6, 7, 8, 9]\n",
      "x_list = [1, 2, 2, 2, 3, 3, 4, 6, 7, 8, 9]\n"
     ]
    }
   ],
   "source": [
    "x_list.pop()\n",
    "print(f'{x_list = }')\n",
    "x_list.pop(7)\n",
    "print(f'{x_list = }')"
   ]
  },
  {
   "cell_type": "code",
   "execution_count": 330,
   "id": "fb2a678f",
   "metadata": {},
   "outputs": [
    {
     "name": "stdout",
     "output_type": "stream",
     "text": [
      "x_list = [2, 2, 2, 3, 3, 4, 6, 7, 8, 9], x_pop = 1\n"
     ]
    }
   ],
   "source": [
    "x_pop = x_list.pop(0)\n",
    "print(f'{x_list = }, {x_pop = }')"
   ]
  },
  {
   "cell_type": "code",
   "execution_count": 331,
   "id": "2879ad69",
   "metadata": {},
   "outputs": [
    {
     "name": "stdout",
     "output_type": "stream",
     "text": [
      "Error : name 'x_list' is not defined\n"
     ]
    }
   ],
   "source": [
    "del x_list\n",
    "try:\n",
    "    print(f'{x_list = }')\n",
    "except NameError as e:\n",
    "    print(f'Error : {e}')"
   ]
  },
  {
   "cell_type": "markdown",
   "id": "4095ce03",
   "metadata": {},
   "source": [
    "## 문자열\n",
    "### 문자열(string) 생성"
   ]
  },
  {
   "cell_type": "code",
   "execution_count": 332,
   "id": "3fe99460",
   "metadata": {},
   "outputs": [
    {
     "name": "stdout",
     "output_type": "stream",
     "text": [
      "Hello Python! My name is Python. I am a Pythin Developer.\n"
     ]
    }
   ],
   "source": [
    "string1 = \"Hello Python! My name is Python. I am a Pythin Developer.\"\n",
    "print(string1)"
   ]
  },
  {
   "cell_type": "code",
   "execution_count": 333,
   "id": "61ff2735",
   "metadata": {},
   "outputs": [
    {
     "name": "stdout",
     "output_type": "stream",
     "text": [
      "Hello Python! My name is Python. I am a Pythin Developer.\n"
     ]
    }
   ],
   "source": [
    "string2 = \"Hello Python! My name is Python. I am a Pythin Developer.\"\n",
    "print(string2)"
   ]
  },
  {
   "cell_type": "code",
   "execution_count": 334,
   "id": "2da801ff",
   "metadata": {},
   "outputs": [
    {
     "name": "stdout",
     "output_type": "stream",
     "text": [
      "Hello Python! \n",
      "My name is Python. \n",
      "I am a Pythin Developer.\n",
      "\n"
     ]
    }
   ],
   "source": [
    "string3 = \"\"\"Hello Python! \n",
    "My name is Python. \n",
    "I am a Pythin Developer.\n",
    "\"\"\"\n",
    "print(string3)"
   ]
  },
  {
   "cell_type": "code",
   "execution_count": 335,
   "id": "6442f3f9",
   "metadata": {},
   "outputs": [
    {
     "name": "stdout",
     "output_type": "stream",
     "text": [
      "Hello Python! \n",
      "My name is Python. \n",
      "I am a Pythin Developer.\n",
      "\n"
     ]
    }
   ],
   "source": [
    "string4 = \"\"\"Hello Python! \n",
    "My name is Python. \n",
    "I am a Pythin Developer.\n",
    "\"\"\"\n",
    "print(string4)"
   ]
  },
  {
   "cell_type": "markdown",
   "id": "12c62dd0",
   "metadata": {},
   "source": [
    "### 이스케이프 문자"
   ]
  },
  {
   "cell_type": "code",
   "execution_count": 336,
   "id": "4d59b4e5",
   "metadata": {},
   "outputs": [
    {
     "name": "stdout",
     "output_type": "stream",
     "text": [
      "Hello \tPython! \n",
      "My \tname \tis \tPython. \n",
      "I \tam \ta \tPython \tDevloper.\n"
     ]
    }
   ],
   "source": [
    "string = 'Hello \\tPython! \\nMy \\tname \\tis \\tPython. \\nI \\tam \\ta \\tPython \\tDevloper.'\n",
    "print(string)"
   ]
  },
  {
   "cell_type": "code",
   "execution_count": 337,
   "id": "1fa9615b",
   "metadata": {},
   "outputs": [
    {
     "name": "stdout",
     "output_type": "stream",
     "text": [
      "Hello \t\\Python\\! \n",
      "My \tname \tis \t'Python'!. \n",
      "I \tam \ta \t\"Python\"\tDevloper.\n"
     ]
    }
   ],
   "source": [
    "string = 'Hello \\t\\\\Python\\\\! \\nMy \\tname \\tis \\t\\'Python\\'!. \\nI \\tam \\ta \\t\\\"Python\\\"\\tDevloper.'\n",
    "print(string)"
   ]
  },
  {
   "cell_type": "markdown",
   "id": "b0d39993",
   "metadata": {},
   "source": [
    "### 문자열의 종류"
   ]
  },
  {
   "cell_type": "code",
   "execution_count": 338,
   "id": "d9bdc82e",
   "metadata": {},
   "outputs": [
    {
     "name": "stdout",
     "output_type": "stream",
     "text": [
      "Hello \\t\\\\Python\\\\! \\nMy \\tname \\tis \\t\\'Python\\'!. \\nI \\tam \\ta \\t\\\"Python\\\" \\tDeveloper.\n"
     ]
    }
   ],
   "source": [
    "string_r = r'Hello \\t\\\\Python\\\\! \\nMy \\tname \\tis \\t\\'Python\\'!. \\nI \\tam \\ta \\t\\\"Python\\\" \\tDeveloper.'\n",
    "print(string_r)"
   ]
  },
  {
   "cell_type": "code",
   "execution_count": 339,
   "id": "08f0c92f",
   "metadata": {},
   "outputs": [
    {
     "name": "stdout",
     "output_type": "stream",
     "text": [
      "Hello Python! My name is Python. I am a Python Developer.\n"
     ]
    }
   ],
   "source": [
    "name = 'Python'\n",
    "string_f = f'Hello {name}! My name is {name}. I am a {name} Developer.'\n",
    "print(string_f)"
   ]
  },
  {
   "cell_type": "markdown",
   "id": "ad363c8d",
   "metadata": {},
   "source": [
    "### 문자열의 인덱싱과 슬라이싱"
   ]
  },
  {
   "cell_type": "code",
   "execution_count": 340,
   "id": "2455438b",
   "metadata": {},
   "outputs": [
    {
     "name": "stdout",
     "output_type": "stream",
     "text": [
      "\n",
      "string[0]='H'\n",
      "string[3]='l'\n",
      "string[-1]='r'\n",
      "string[-3]='p'\n",
      "\n",
      "string[0:5]='Hello'\n",
      "string[6:12]='Python'\n",
      "string[:5]='Hello'\n",
      "string[6:]='Python! My name is Pyhon. I am a Python Developer'\n",
      "string[6:-1]='Python! My name is Pyhon. I am a Python Develope'\n",
      "string[6:-3]='Python! My name is Pyhon. I am a Python Develo'\n",
      "\n",
      "string[6:12:2]='Pto'\n",
      "\n",
      "string[::2]='HloPto!M aei yo.Ia  yhnDvlpr'\n",
      "\n",
      "string[::-1]='repoleveD nohtyP a ma I .nohyP si eman yM !nohtyP olleH'\n",
      "\n"
     ]
    }
   ],
   "source": [
    "string = \"Hello Python! My name is Pyhon. I am a Python Developer\"\n",
    "print(f'''\n",
    "{string[0]=}\n",
    "{string[3]=}\n",
    "{string[-1]=}\n",
    "{string[-3]=}\n",
    "\n",
    "{string[0:5]=}\n",
    "{string[6:12]=}\n",
    "{string[:5]=}\n",
    "{string[6:]=}\n",
    "{string[6:-1]=}\n",
    "{string[6:-3]=}\n",
    "\n",
    "{string[6:12:2]=}\n",
    "\n",
    "{string[::2]=}\n",
    "\n",
    "{string[::-1]=}\n",
    "''')\n"
   ]
  },
  {
   "cell_type": "markdown",
   "id": "9c57bf47",
   "metadata": {},
   "source": [
    "### 문자열 연산"
   ]
  },
  {
   "cell_type": "code",
   "execution_count": 341,
   "id": "8ecc4d8e",
   "metadata": {},
   "outputs": [
    {
     "name": "stdout",
     "output_type": "stream",
     "text": [
      "Hello Python! My name is Python. I am a Python Developer.\n"
     ]
    }
   ],
   "source": [
    "string = \"Hello Python! \" + \"My name is Python. \" + \"I am a Python Developer.\"\n",
    "print(string)"
   ]
  },
  {
   "cell_type": "markdown",
   "id": "642ad6a4",
   "metadata": {},
   "source": [
    "### 문자열 관련 함수"
   ]
  },
  {
   "cell_type": "code",
   "execution_count": 342,
   "id": "d1ca8c15",
   "metadata": {},
   "outputs": [
    {
     "name": "stdout",
     "output_type": "stream",
     "text": [
      "22\n",
      "True\n",
      "True\n"
     ]
    }
   ],
   "source": [
    "string = \"2024_바이오헬스 교과목 목록.xlsx\"\n",
    "print(len(string))\n",
    "print('2024' in string)\n",
    "print('csv' not in string)"
   ]
  },
  {
   "cell_type": "markdown",
   "id": "06c4b8d9",
   "metadata": {},
   "source": [
    "## 딕셔너리\n",
    "### Dictionary 생성 및 선언"
   ]
  },
  {
   "cell_type": "code",
   "execution_count": 343,
   "id": "d0fab630",
   "metadata": {},
   "outputs": [
    {
     "name": "stdout",
     "output_type": "stream",
     "text": [
      "my_dict1 = {}\n",
      "my_dict2 = {}\n"
     ]
    }
   ],
   "source": [
    "my_dict1 = {}\n",
    "my_dict2 = dict()\n",
    "\n",
    "print(f'{my_dict1 = }\\n{my_dict2 = }')"
   ]
  },
  {
   "cell_type": "code",
   "execution_count": 344,
   "id": "30d1b860",
   "metadata": {},
   "outputs": [
    {
     "name": "stdout",
     "output_type": "stream",
     "text": [
      "my_dict1 = {'name': 'Max', 'age': 28, 'city': 'New York'}\n",
      "my_dict2 = {'name': 'Max', 'age': 28, 'city': 'New York'}\n",
      "my_dict3 = {'name': 'Max', 'age': 28, 'city': 'New York'}\n"
     ]
    }
   ],
   "source": [
    "my_dict1 = {'name': 'Max', 'age': 28, 'city': 'New York'}\n",
    "my_dict2 = dict(name='Max', age= 28, city= 'New York')\n",
    "my_dict3 = dict([('name', 'Max'), ('age', 28), ('city', 'New York')])\n",
    "print(f'{my_dict1 = }\\n{my_dict2 = }\\n{my_dict3 = }')"
   ]
  },
  {
   "cell_type": "code",
   "execution_count": 345,
   "id": "d80a3372",
   "metadata": {},
   "outputs": [
    {
     "name": "stdout",
     "output_type": "stream",
     "text": [
      "my_dict4 = {'name': 'Max', 'age': 28, 'city': 'New York'}\n"
     ]
    }
   ],
   "source": [
    "person_keys = ['name', 'age', 'city']\n",
    "person_values = ['Max', 28, 'New York']\n",
    "\n",
    "my_dict4 = dict(zip(person_keys, person_values))\n",
    "print(f'{my_dict4 = }')"
   ]
  },
  {
   "cell_type": "code",
   "execution_count": 346,
   "id": "b1da6d6c",
   "metadata": {},
   "outputs": [
    {
     "name": "stdout",
     "output_type": "stream",
     "text": [
      "my_dict_dict = {'A': {'name': 'Max', 'age': 28, 'city': 'New York'}, 'B': {'name': 'Mary', 'age': 22, 'city': 'Seoul'}}\n"
     ]
    }
   ],
   "source": [
    "my_dict_dict = {'A': {'name': 'Max', 'age':28, 'city': 'New York'},\n",
    "                'B': {'name': 'Mary', 'age':22, 'city': 'Seoul'}}\n",
    "print(f'{my_dict_dict = }')"
   ]
  },
  {
   "cell_type": "code",
   "execution_count": 347,
   "id": "ba978199",
   "metadata": {},
   "outputs": [
    {
     "name": "stdout",
     "output_type": "stream",
     "text": [
      "{'A': {'age': 28, 'city': 'New York', 'name': 'Max'},\n",
      " 'B': {'age': 22, 'city': 'Seoul', 'name': 'Mary'}}\n"
     ]
    }
   ],
   "source": [
    "from pprint import pprint\n",
    "pprint(my_dict_dict)"
   ]
  },
  {
   "cell_type": "markdown",
   "id": "c0ead181",
   "metadata": {},
   "source": [
    "### Dictionary 살펴보기"
   ]
  },
  {
   "cell_type": "code",
   "execution_count": 348,
   "id": "8a3cb858",
   "metadata": {},
   "outputs": [
    {
     "name": "stdout",
     "output_type": "stream",
     "text": [
      "my_dict1 = {'name': 'Max', 'age': 28, 'city': 'New York'}\n",
      "type(my_dict1) = <class 'dict'>\n",
      "len(my_dict1) = 3\n",
      "True\n",
      "False\n"
     ]
    }
   ],
   "source": [
    "print(f'{my_dict1 = }')\n",
    "print(f'{type(my_dict1) = }')\n",
    "print(f'{len(my_dict1) = }')\n",
    "print(\"name\" in my_dict1)\n",
    "print(\"Max\" in my_dict1)"
   ]
  },
  {
   "cell_type": "code",
   "execution_count": 349,
   "id": "0fbee476",
   "metadata": {},
   "outputs": [
    {
     "name": "stdout",
     "output_type": "stream",
     "text": [
      "my_dict1[\"name\"] = 'Max'\n",
      "KeyError: 'name2'\n"
     ]
    }
   ],
   "source": [
    "print(f'{my_dict1[\"name\"] = }')\n",
    "\n",
    "try: \n",
    "    print(f'{my_dict1[\"name2\"] = }')\n",
    "except KeyError as e:\n",
    "    print(f'KeyError: {e}')"
   ]
  },
  {
   "cell_type": "code",
   "execution_count": 350,
   "id": "21bd4153",
   "metadata": {},
   "outputs": [
    {
     "name": "stdout",
     "output_type": "stream",
     "text": [
      "my_dict_dict[\"A\"][\"name\"] = 'Max'\n"
     ]
    }
   ],
   "source": [
    "print(f'{my_dict_dict[\"A\"][\"name\"] = }')"
   ]
  },
  {
   "cell_type": "code",
   "execution_count": 351,
   "id": "1d2a3349",
   "metadata": {},
   "outputs": [
    {
     "name": "stdout",
     "output_type": "stream",
     "text": [
      "my_dict1.get(\"name\") = 'Max'\n",
      "my_dict1.get(\"name2\") = None\n",
      "my_dict1.get(\"name2\", \"replacement\") = 'replacement'\n"
     ]
    }
   ],
   "source": [
    "print(f'{my_dict1.get(\"name\") = }')\n",
    "print(f'{my_dict1.get(\"name2\") = }')\n",
    "print(f'{my_dict1.get(\"name2\", \"replacement\") = }')"
   ]
  },
  {
   "cell_type": "code",
   "execution_count": 352,
   "id": "49a5f0c1",
   "metadata": {},
   "outputs": [
    {
     "name": "stdout",
     "output_type": "stream",
     "text": [
      "my_dict1.keys() = dict_keys(['name', 'age', 'city'])\n",
      "my_dict1.values() = dict_values(['Max', 28, 'New York'])\n",
      "my_dict1.items() = dict_items([('name', 'Max'), ('age', 28), ('city', 'New York')])\n"
     ]
    }
   ],
   "source": [
    "print(f'{my_dict1.keys() = }')\n",
    "print(f'{my_dict1.values() = }')\n",
    "print(f'{my_dict1.items() = }')"
   ]
  },
  {
   "cell_type": "markdown",
   "id": "c37342f2",
   "metadata": {},
   "source": [
    "### Dictionaty 요소 추가, 삭제, 수정하기"
   ]
  },
  {
   "cell_type": "code",
   "execution_count": 353,
   "id": "0b728977",
   "metadata": {},
   "outputs": [
    {
     "name": "stdout",
     "output_type": "stream",
     "text": [
      "my_dict1 = {'name': 'Max', 'age': 28, 'city': 'New York'}\n",
      "my_dict1 = {'name': 'Max', 'age': 28, 'city': 'New York', 'id': 123}\n"
     ]
    }
   ],
   "source": [
    "print(f'{my_dict1 = }')\n",
    "my_dict1[\"id\"] = 123\n",
    "print(f'{my_dict1 = }')"
   ]
  },
  {
   "cell_type": "code",
   "execution_count": 354,
   "id": "5f11cb57",
   "metadata": {},
   "outputs": [
    {
     "name": "stdout",
     "output_type": "stream",
     "text": [
      "my_dict1 = {'name': 'Max', 'age': 28, 'city': 'New York'}\n"
     ]
    }
   ],
   "source": [
    "del my_dict1[\"id\"]\n",
    "print(f'{my_dict1 = }')"
   ]
  },
  {
   "cell_type": "code",
   "execution_count": 355,
   "id": "8c54919f",
   "metadata": {},
   "outputs": [
    {
     "name": "stdout",
     "output_type": "stream",
     "text": [
      "my_dict1 = {'name': 'Max', 'age': 30, 'city': 'New York'}\n"
     ]
    }
   ],
   "source": [
    "my_dict1[\"age\"] = 30\n",
    "print(f'{my_dict1 = }')"
   ]
  },
  {
   "cell_type": "code",
   "execution_count": 356,
   "id": "39c7c97d",
   "metadata": {},
   "outputs": [
    {
     "name": "stdout",
     "output_type": "stream",
     "text": [
      "my_dict1 = {'name': 'Max', 'age': 40, 'city': 'New York', 'id': 123, 'occupation': 'Data Scientist'}\n"
     ]
    }
   ],
   "source": [
    "my_dict1.update(age = 40, id = 123, occupation = \"Data Scientist\")\n",
    "print(f'{my_dict1 = }')"
   ]
  },
  {
   "cell_type": "code",
   "execution_count": 357,
   "id": "f99ca696",
   "metadata": {},
   "outputs": [
    {
     "name": "stdout",
     "output_type": "stream",
     "text": [
      "my_dict1 = {'name': 'Max', 'age': 50, 'city': 'New York', 'id': 123, 'occupation': 'Data Scientist', 'affiliation': 'Hongik Univ.'}\n"
     ]
    }
   ],
   "source": [
    "my_dict_more = {\"age\": 50, \"affiliation\": \"Hongik Univ.\"}\n",
    "my_dict1.update(my_dict_more)\n",
    "print(f'{my_dict1 = }')"
   ]
  },
  {
   "cell_type": "code",
   "execution_count": 358,
   "id": "a25b7791",
   "metadata": {},
   "outputs": [
    {
     "name": "stdout",
     "output_type": "stream",
     "text": [
      "my_dict1 = {'name': 'Max', 'age': 50, 'city': 'New York', 'id': 123, 'occupation': 'Data Scientist'}\n"
     ]
    }
   ],
   "source": [
    "my_dict1.pop(\"affiliation\")\n",
    "print(f'{my_dict1 = }')"
   ]
  },
  {
   "cell_type": "code",
   "execution_count": 359,
   "id": "5006d7cc",
   "metadata": {},
   "outputs": [
    {
     "name": "stdout",
     "output_type": "stream",
     "text": [
      "my_dict1 = {'name': 'Max', 'age': 50, 'city': 'New York', 'id': 123}\n",
      "occupation = 'Data Scientist'\n"
     ]
    }
   ],
   "source": [
    "occupation = my_dict1.pop(\"occupation\")\n",
    "print(f'{my_dict1 = }\\n{occupation = }')"
   ]
  },
  {
   "cell_type": "code",
   "execution_count": 360,
   "id": "3bb480a5",
   "metadata": {},
   "outputs": [
    {
     "name": "stdout",
     "output_type": "stream",
     "text": [
      "KeyError: 'occupation'\n",
      "occupation = 'unknown'\n"
     ]
    }
   ],
   "source": [
    "try:\n",
    "    my_dict1.pop(\"occupation\")\n",
    "except KeyError as e:\n",
    "    print(f'KeyError: {e}')\n",
    "\n",
    "occupation = my_dict1.pop(\"occupation\", \"unknown\")\n",
    "print(f'{occupation = }')"
   ]
  },
  {
   "cell_type": "code",
   "execution_count": 361,
   "id": "c9ba737a",
   "metadata": {},
   "outputs": [
    {
     "name": "stdout",
     "output_type": "stream",
     "text": [
      "my_dict1 = {'name': 'Max', 'age': 50, 'city': 'New York', 'id': 123}\n",
      "my_dict1 = {'name': 'Max', 'age': 50, 'city': 'New York'}\n",
      "last = ('id', 123)\n",
      "my_dict1 = {'name': 'Max', 'age': 50}\n",
      "last = ('city', 'New York')\n"
     ]
    }
   ],
   "source": [
    "print(f'{my_dict1 = }')\n",
    "\n",
    "last = my_dict1.popitem()\n",
    "print(f'{my_dict1 = }\\n{last = }')\n",
    "\n",
    "last = my_dict1.popitem()\n",
    "print(f'{my_dict1 = }\\n{last = }')"
   ]
  },
  {
   "cell_type": "code",
   "execution_count": 362,
   "id": "b8bd5b0f",
   "metadata": {},
   "outputs": [
    {
     "name": "stdout",
     "output_type": "stream",
     "text": [
      "my_dict1 = {}\n"
     ]
    }
   ],
   "source": [
    "my_dict1.clear()\n",
    "print(f'{my_dict1 = }')"
   ]
  },
  {
   "cell_type": "markdown",
   "id": "64a067c0",
   "metadata": {},
   "source": [
    "# **iterable자료형_응용**"
   ]
  },
  {
   "cell_type": "markdown",
   "id": "89500a1c",
   "metadata": {},
   "source": [
    "## 인덱싱과 슬라이싱"
   ]
  },
  {
   "cell_type": "code",
   "execution_count": 363,
   "id": "c1f18a63",
   "metadata": {},
   "outputs": [
    {
     "name": "stdout",
     "output_type": "stream",
     "text": [
      "10\n",
      "[0, 1, 2, 3, 4, 5, 9, 9, 11]\n",
      "()\n",
      "(5, 4, 3)\n",
      "()\n",
      "(5, 3)\n"
     ]
    }
   ],
   "source": [
    "x_list = [0,1,2,3,4,5,9,9,11,100]\n",
    "print(len(x_list))\n",
    "# 전체 숫자 알 수 있음\n",
    "print(x_list[:-1])\n",
    "# 0번째부터 뒤에서 첫번째까지\n",
    "x_tuple = (1,2,3,4,5)\n",
    "print(x_tuple[-1:-4])\n",
    "# 역순으로 입력시 빈 문자열이 나옴\n",
    "\n",
    "print(x_tuple[-1:-4:-1])\n",
    "# 역순으로 입력시 거꾸로 한 칸씩 출력할 수 있도록 -1 추가 \n",
    "\n",
    "print(x_tuple[-1:-4:1])\n",
    "# 1 입력시 빈 문자열\n",
    "print(x_tuple[-1:-4:-2])\n",
    "# 한 칸 건너뛰고 출력"
   ]
  },
  {
   "cell_type": "markdown",
   "id": "40448787",
   "metadata": {},
   "source": [
    "## 얕은 복사와 깊은 복사"
   ]
  },
  {
   "cell_type": "code",
   "execution_count": 364,
   "id": "0ce075ac",
   "metadata": {},
   "outputs": [
    {
     "name": "stdout",
     "output_type": "stream",
     "text": [
      "1542274709568\n",
      "1542274709568\n",
      "x_tuple = [1, 2, 3]\t id(x_tuple) = 1542274709568\n",
      "y_tuple = [1, 2, 3]\t id(y_tuple) = 1542274709568\n"
     ]
    }
   ],
   "source": [
    "x_tuple = [1,2,3]\n",
    "y_tuple = x_tuple\n",
    "print(id(x_tuple)) \n",
    "print(id(y_tuple))\n",
    "\n",
    "y_list[1] = 13\n",
    "\n",
    "print(f'{x_tuple = }\\t {id(x_tuple) = }') \n",
    "print(f'{y_tuple = }\\t {id(y_tuple) = }') \n",
    "\n",
    "# 튜플은 원소 변경이 되지 않기 때문에 메모리 주소가 동일"
   ]
  },
  {
   "cell_type": "code",
   "execution_count": 365,
   "id": "b10c98a5",
   "metadata": {},
   "outputs": [
    {
     "name": "stdout",
     "output_type": "stream",
     "text": [
      "1542274481344\n",
      "1542274496320\n",
      "x_list = [0, 1, 2, 3, 4, 5, 9, 9, 11, 100]\t id(x_list) = 1542274481344\n",
      "y_list = [1, 13, 3, 4, 5, 2, 3, 2]\t id(y_list) = 1542274496320\n"
     ]
    }
   ],
   "source": [
    "x = [1,2,3]\n",
    "y = x.copy()\n",
    "\n",
    "print(id(x_list))\n",
    "print(id(y_list))\n",
    "\n",
    "x[1] = 13\n",
    "# x를 변경하면 y도 변경됨\n",
    "\n",
    "print(f'{x_list = }\\t {id(x_list) = }') \n",
    "print(f'{y_list = }\\t {id(y_list) = }') \n",
    "\n",
    "# 메모리주소는 변경되지 않음 "
   ]
  },
  {
   "cell_type": "markdown",
   "id": "ca0e04b1",
   "metadata": {},
   "source": [
    "## 리스트와 튜플"
   ]
  },
  {
   "cell_type": "markdown",
   "id": "599dbc88",
   "metadata": {},
   "source": [
    "### 내장함수를 이용한 리스트와 튜플 다루기"
   ]
  },
  {
   "cell_type": "code",
   "execution_count": 366,
   "id": "76a1e632",
   "metadata": {},
   "outputs": [
    {
     "name": "stdout",
     "output_type": "stream",
     "text": [
      "unsupported operand type(s) for +: 'int' and 'str'\n"
     ]
    }
   ],
   "source": [
    "x_list = [0, 1, 2, 'a', 3]\n",
    "try : \n",
    "    print(sum(x_list))\n",
    "except TypeError as e:\n",
    "    print(e)\n",
    "\n",
    "## 문자열은 덧셈할 수 없음"
   ]
  },
  {
   "cell_type": "code",
   "execution_count": 367,
   "id": "76d35afb",
   "metadata": {},
   "outputs": [
    {
     "name": "stdout",
     "output_type": "stream",
     "text": [
      "'>' not supported between instances of 'str' and 'int'\n"
     ]
    }
   ],
   "source": [
    "try : \n",
    "    print(f'{max(x_list)}')\n",
    "except TypeError as e:\n",
    "    print(e)\n",
    "\n",
    "#문자열과 숫자 사이의 최댓값은 출력할 수 없음."
   ]
  },
  {
   "cell_type": "code",
   "execution_count": 368,
   "id": "49284503",
   "metadata": {},
   "outputs": [
    {
     "name": "stdout",
     "output_type": "stream",
     "text": [
      "5\n"
     ]
    },
    {
     "data": {
      "text/plain": [
       "0"
      ]
     },
     "execution_count": 368,
     "metadata": {},
     "output_type": "execute_result"
    }
   ],
   "source": [
    "print(len('abcde'))\n",
    "# 문자열의 글자수를 구해줌\n",
    "len(())\n",
    "# 빈 문자열 입력시 0 출력\n"
   ]
  },
  {
   "cell_type": "code",
   "execution_count": 369,
   "id": "dbb9d493",
   "metadata": {},
   "outputs": [
    {
     "name": "stdout",
     "output_type": "stream",
     "text": [
      "all(x_list) = False\n",
      "all(y_list) = True\n"
     ]
    }
   ],
   "source": [
    "x_list = [1,0,2]\n",
    "y_list = [1,[0],2]\n",
    "print(f'{all(x_list) = }')\n",
    "print(f'{all(y_list) = }')\n",
    "\n",
    "# [0]은 0으로 인식하지 않음"
   ]
  },
  {
   "cell_type": "code",
   "execution_count": 370,
   "id": "d008a11c",
   "metadata": {},
   "outputs": [
    {
     "name": "stdout",
     "output_type": "stream",
     "text": [
      "v\n"
     ]
    }
   ],
   "source": [
    "y_list = ['a', '2', 'v']\n",
    "print(f'{max(y_list)}')\n",
    "\n",
    "# 문자열 사이의 최댓값은 출력 가능"
   ]
  },
  {
   "cell_type": "markdown",
   "id": "7fda233f",
   "metadata": {},
   "source": [
    "### 각 메서드의 기능"
   ]
  },
  {
   "cell_type": "code",
   "execution_count": 371,
   "id": "77e05651",
   "metadata": {},
   "outputs": [
    {
     "name": "stdout",
     "output_type": "stream",
     "text": [
      "x_list.count('a') = 1\n"
     ]
    }
   ],
   "source": [
    "x_list = ['abc', 'a',2, 4, 2, 44,'A']\n",
    "print(f'{x_list.count('a') = }')\n",
    "# 대소문자 구분함"
   ]
  },
  {
   "cell_type": "code",
   "execution_count": 372,
   "id": "a61acb0a",
   "metadata": {},
   "outputs": [
    {
     "name": "stdout",
     "output_type": "stream",
     "text": [
      "x_list = ['abc', 'a', 3, 2, 4, 2, 44, 'A']\n"
     ]
    }
   ],
   "source": [
    "x_list.insert(2, 3)\n",
    "print(f'{x_list = }')\n",
    "# 동일 원소 존재시 가장 앞에 있는 원소에 적용"
   ]
  },
  {
   "cell_type": "code",
   "execution_count": 373,
   "id": "d1bea22d",
   "metadata": {},
   "outputs": [
    {
     "name": "stdout",
     "output_type": "stream",
     "text": [
      "'builtin_function_or_method' object is not subscriptable\n"
     ]
    }
   ],
   "source": [
    "try:\n",
    "    x_list.remove[0:3]\n",
    "except TypeError as e:\n",
    "    print(e)\n",
    "# 원소의 범위를 입력하여 제거 불가능 "
   ]
  },
  {
   "cell_type": "markdown",
   "id": "8942d131",
   "metadata": {},
   "source": [
    "## 문자열"
   ]
  },
  {
   "cell_type": "markdown",
   "id": "ef96017e",
   "metadata": {},
   "source": [
    "### 문자열 생성"
   ]
  },
  {
   "cell_type": "code",
   "execution_count": 374,
   "id": "7bb6378f",
   "metadata": {},
   "outputs": [
    {
     "name": "stdout",
     "output_type": "stream",
     "text": [
      "H\n",
      "ELLO\n",
      "MY NAME IS\n",
      "YOUNGJU\n",
      "hi\n",
      "1\n",
      "2\n",
      "3\n",
      "\n"
     ]
    }
   ],
   "source": [
    "str1 = \"\"\"H\n",
    "ELLO\n",
    "MY NAME IS\n",
    "YOUNGJU\n",
    "hi\n",
    "1\n",
    "2\n",
    "3\n",
    "\"\"\"\n",
    "# 큰따옴표 3개를 연속으로 둘러싸면 제한 없이 여러줄 가능\n",
    "print(str1)"
   ]
  },
  {
   "cell_type": "code",
   "execution_count": 375,
   "id": "1b7e3513",
   "metadata": {},
   "outputs": [
    {
     "name": "stdout",
     "output_type": "stream",
     "text": [
      "hello\n",
      "I am \n",
      "youngju.what is\n",
      "your \n",
      "name?\n"
     ]
    }
   ],
   "source": [
    "str2 = \"\"\"hello\n",
    "I am \n",
    "youngju.\"\"\"   '''what is\n",
    "your \n",
    "name?'''\n",
    "print(str2)\n",
    "# 큰따옴표 연속 3개와 작은 따옴표 연속 3개 같이 사용 가능"
   ]
  },
  {
   "cell_type": "markdown",
   "id": "14233a67",
   "metadata": {},
   "source": [
    "### 이스케이프 문자"
   ]
  },
  {
   "cell_type": "code",
   "execution_count": 376,
   "id": "cf508ac4",
   "metadata": {},
   "outputs": [
    {
     "name": "stdout",
     "output_type": "stream",
     "text": [
      "hello \n",
      "i am\n",
      "youngju.\n",
      "thank\t you\n"
     ]
    }
   ],
   "source": [
    "string_1 = \"\"\"hello \n",
    "i am\\nyoungju.\n",
    "thank\\t you\"\"\"\n",
    "print(string_1)\n",
    "# 이스케이프문자와 큰따옴표 연속 3개 같이 사용 가능"
   ]
  },
  {
   "cell_type": "markdown",
   "id": "565c7fc5",
   "metadata": {},
   "source": [
    "### 문자열의 종류"
   ]
  },
  {
   "cell_type": "code",
   "execution_count": 377,
   "id": "c6161768",
   "metadata": {},
   "outputs": [
    {
     "name": "stdout",
     "output_type": "stream",
     "text": [
      "Hello, my name is YoungJU. \n",
      "YoungJU is a Python Developer.\n",
      "name = 'YoungJU'\n"
     ]
    }
   ],
   "source": [
    "name = 'YoungJU'\n",
    "string_b = f'Hello, my name is {name}. \\n{name  } is a Python Developer.'\n",
    "print(string_b)\n",
    "# {name}에서 name 뒤에 공백이 있어도 출력 가능함\n",
    "\n",
    "string_c = f'{name = }'\n",
    "print(string_c)\n",
    "# {name}에서 name 뒤에 =을 넣어도 출력 가능함"
   ]
  },
  {
   "cell_type": "markdown",
   "id": "8bdc70e9",
   "metadata": {},
   "source": [
    "### 문자열 연산"
   ]
  },
  {
   "cell_type": "code",
   "execution_count": 378,
   "id": "8f537c4b",
   "metadata": {},
   "outputs": [
    {
     "name": "stdout",
     "output_type": "stream",
     "text": [
      "aaaaabbbbbccccc\n",
      "['a', 'a', 'a', 'a', 'a', 'b', 'b', 'b', 'b', 'b']\n",
      "['a', 'a', 'a', 'a', 'a', 'b', 'b', 'b', 'b', 'b']\n"
     ]
    }
   ],
   "source": [
    "x_str = ('a'*5)+('b'*5)+('c'*5)\n",
    "print(x_str)\n",
    "# 문자열 반복과 연결 함께 사용 가능\n",
    "\n",
    "print(list('a'*5+'b'*5))\n",
    "print(['a']*5 + ['b']*5)\n",
    "# 리스트에 적용 가능.\n",
    "# list()와 []의 값이 동일함"
   ]
  },
  {
   "cell_type": "code",
   "execution_count": 379,
   "id": "d3b5b299",
   "metadata": {},
   "outputs": [
    {
     "data": {
      "text/plain": [
       "'aaaaabbbbb'"
      ]
     },
     "execution_count": 379,
     "metadata": {},
     "output_type": "execute_result"
    }
   ],
   "source": [
    "('a')*5+('b')*5\n",
    "# tuple로 나오지 않음 "
   ]
  },
  {
   "cell_type": "code",
   "execution_count": 380,
   "id": "58d56a2f",
   "metadata": {},
   "outputs": [
    {
     "data": {
      "text/plain": [
       "('a', 'a', 'a', 'a', 'a', 'b', 'b', 'b', 'b', 'b')"
      ]
     },
     "execution_count": 380,
     "metadata": {},
     "output_type": "execute_result"
    }
   ],
   "source": [
    "('a',)*5+('b',)*5\n",
    "#콤마를 붙여서 tuple 생성 "
   ]
  },
  {
   "cell_type": "markdown",
   "id": "2763195a",
   "metadata": {},
   "source": [
    "### 문자열 관련 함수"
   ]
  },
  {
   "cell_type": "code",
   "execution_count": 381,
   "id": "393aee6e",
   "metadata": {},
   "outputs": [
    {
     "name": "stdout",
     "output_type": "stream",
     "text": [
      "False\n",
      "True\n",
      "True\n"
     ]
    }
   ],
   "source": [
    "string = \"2024_바이오헬스 교과목 목록.xlsx\"\n",
    "print('202  4' in string)\n",
    "# 스페이스가 있을 경우 False\n",
    "print('202' in string)\n",
    "# 숫자 일부만 입력하여도 True\n",
    "print('교과' in string)\n",
    "# 한글도 잘 작동됨"
   ]
  },
  {
   "cell_type": "markdown",
   "id": "58b81fd7",
   "metadata": {},
   "source": [
    "### 딕셔너리"
   ]
  },
  {
   "cell_type": "code",
   "execution_count": 387,
   "id": "769b9bf6",
   "metadata": {},
   "outputs": [
    {
     "name": "stdout",
     "output_type": "stream",
     "text": [
      "Error : unhashable type: 'list'\n"
     ]
    }
   ],
   "source": [
    "name = [1]\n",
    "try: \n",
    "    my_dict1 = {name: 'Max', 'age': 28, 'city': 'New York'}\n",
    "except TypeError as e:\n",
    "    print(f'Error : {e}')\n",
    "# key 자리에 리스트 불가능 "
   ]
  },
  {
   "cell_type": "code",
   "execution_count": 391,
   "id": "86c744cf",
   "metadata": {},
   "outputs": [
    {
     "name": "stdout",
     "output_type": "stream",
     "text": [
      "{'name': ['MAX'], 'age': 28, 'city': 'New York'}\n"
     ]
    }
   ],
   "source": [
    "d = ['MAX']\n",
    "my_dict2 = {'name': d, 'age': 28, 'city': 'New York'}\n",
    "print(my_dict2)\n",
    "# value 자리에는 리스트 가능"
   ]
  },
  {
   "cell_type": "code",
   "execution_count": 394,
   "id": "abd2995e",
   "metadata": {},
   "outputs": [
    {
     "name": "stdout",
     "output_type": "stream",
     "text": [
      "KeyError: 0\n"
     ]
    },
    {
     "data": {
      "text/plain": [
       "'New York'"
      ]
     },
     "execution_count": 394,
     "metadata": {},
     "output_type": "execute_result"
    }
   ],
   "source": [
    "my_dict3 = {'name': 'Max', 'name': 28, 'city': 'New York'}\n",
    "try:\n",
    "    print(my_dict1[0])\n",
    "except KeyError as e:\n",
    "    print(f'KeyError: {e}')\n",
    "\n",
    "my_dict1['city']\n",
    "#딕셔너리는 key값으로 인덱싱 "
   ]
  },
  {
   "cell_type": "code",
   "execution_count": null,
   "id": "65693f39",
   "metadata": {},
   "outputs": [
    {
     "name": "stdout",
     "output_type": "stream",
     "text": [
      "New York\n",
      "New York\n"
     ]
    }
   ],
   "source": [
    "my_dict1 = {name: 'Max', 'name': 28, 'city': 'New York'}\n",
    "print(my_dict1['city'])\n",
    "my_list = ['Max', 28, 'New York']\n",
    "print(my_list[2])\n",
    "\n",
    "# 리스트와 딕셔너리의 결과는 같지만 딕셔너리의 의미가 더욱 명확"
   ]
  },
  {
   "cell_type": "code",
   "execution_count": null,
   "id": "220df1ea",
   "metadata": {},
   "outputs": [
    {
     "data": {
      "text/plain": [
       "{'name': ('Max',), 'age': (28,), 'city': ('New York',)}"
      ]
     },
     "execution_count": 71,
     "metadata": {},
     "output_type": "execute_result"
    }
   ],
   "source": [
    "person_keys = ['name', 'age', 'city']\n",
    "person_values = ['Max', 28, 'New York']\n",
    "\n",
    "dict(zip(person_keys, zip(person_values)))\n",
    "\n",
    "# zip으로 묶어 딕셔너리로 변환"
   ]
  }
 ],
 "metadata": {
  "kernelspec": {
   "display_name": "Python 3",
   "language": "python",
   "name": "python3"
  },
  "language_info": {
   "codemirror_mode": {
    "name": "ipython",
    "version": 3
   },
   "file_extension": ".py",
   "mimetype": "text/x-python",
   "name": "python",
   "nbconvert_exporter": "python",
   "pygments_lexer": "ipython3",
   "version": "3.13.2"
  }
 },
 "nbformat": 4,
 "nbformat_minor": 5
}
