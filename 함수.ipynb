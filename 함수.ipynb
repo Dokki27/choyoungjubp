{
 "cells": [
  {
   "cell_type": "markdown",
   "id": "602f8e09",
   "metadata": {},
   "source": [
    "# **C431229_조영주**"
   ]
  },
  {
   "cell_type": "markdown",
   "id": "e0ca30b9",
   "metadata": {},
   "source": [
    "# **함수_기본**"
   ]
  },
  {
   "cell_type": "markdown",
   "id": "046fdaf5",
   "metadata": {},
   "source": [
    "## 함수"
   ]
  },
  {
   "cell_type": "markdown",
   "id": "07cbf797",
   "metadata": {},
   "source": [
    "### 함수의 호출"
   ]
  },
  {
   "cell_type": "code",
   "execution_count": 3,
   "id": "852c379f",
   "metadata": {},
   "outputs": [],
   "source": [
    "def calcSumProduct(a,b=10):\n",
    "\n",
    "    plus = a+b\n",
    "    multiple = a*b\n",
    "\n",
    "    return plus, multiple"
   ]
  },
  {
   "cell_type": "code",
   "execution_count": 4,
   "id": "9469733f",
   "metadata": {},
   "outputs": [
    {
     "name": "stdout",
     "output_type": "stream",
     "text": [
      "sum = 10, product = 21\n"
     ]
    }
   ],
   "source": [
    "sum, product = calcSumProduct(3,7)\n",
    "print(f'{sum = }, {product = }')"
   ]
  },
  {
   "cell_type": "code",
   "execution_count": 5,
   "id": "289d88fa",
   "metadata": {},
   "outputs": [
    {
     "name": "stdout",
     "output_type": "stream",
     "text": [
      "sum = 13, product = 30\n"
     ]
    }
   ],
   "source": [
    "sum, product = calcSumProduct(3)\n",
    "print(f'{sum = }, {product = }')"
   ]
  },
  {
   "cell_type": "code",
   "execution_count": 36,
   "id": "495b5d5c",
   "metadata": {},
   "outputs": [
    {
     "name": "stdout",
     "output_type": "stream",
     "text": [
      "sum = 10, product = 21\n"
     ]
    }
   ],
   "source": [
    "sum, product = calcSumProduct(b=3, a=7)\n",
    "print(f'{sum = }, {product = }')"
   ]
  },
  {
   "cell_type": "markdown",
   "id": "62ff4b6e",
   "metadata": {},
   "source": [
    "### 함수 주석"
   ]
  },
  {
   "cell_type": "code",
   "execution_count": 37,
   "id": "23437864",
   "metadata": {},
   "outputs": [],
   "source": [
    "def calcSumProduction(a: int, b:int = 10) -> int:\n",
    "    \"\"\"calcSumProduct 함수는 a와 b를 더한 값과 곱한값을 튜플로 반환하는 함수이다.\"\"\"\n",
    "    print(f'{a = }, {b = }')\n",
    "    plus = a+b\n",
    "    multiple = a*b\n",
    "    return plus, multiple"
   ]
  },
  {
   "cell_type": "code",
   "execution_count": 38,
   "id": "56424113",
   "metadata": {},
   "outputs": [
    {
     "name": "stdout",
     "output_type": "stream",
     "text": [
      "Help on function calcSumProduct in module __main__:\n",
      "\n",
      "calcSumProduct(a, b=10)\n",
      "\n"
     ]
    }
   ],
   "source": [
    "help(calcSumProduct)"
   ]
  },
  {
   "cell_type": "code",
   "execution_count": 41,
   "id": "a3a03840",
   "metadata": {},
   "outputs": [
    {
     "data": {
      "text/plain": [
       "np.int64(6)"
      ]
     },
     "execution_count": 41,
     "metadata": {},
     "output_type": "execute_result"
    }
   ],
   "source": [
    "import numpy as np\n",
    "np.prod([1,2,3])"
   ]
  },
  {
   "cell_type": "markdown",
   "id": "c58843d3",
   "metadata": {},
   "source": [
    "## 인수의 개수가 정해지지 않은 함수"
   ]
  },
  {
   "cell_type": "markdown",
   "id": "b1ca26e2",
   "metadata": {},
   "source": [
    "### *args의 활용"
   ]
  },
  {
   "cell_type": "code",
   "execution_count": 43,
   "id": "adebb0b5",
   "metadata": {},
   "outputs": [
    {
     "name": "stdout",
     "output_type": "stream",
     "text": [
      "inputs = (1, 2, 3)\n",
      "sum = np.int64(6), product = np.int64(6)\n",
      "\n",
      "inputs = (1, 2, 3, 4, 5, 6, 7, 8)\n",
      "sum = np.int64(36), product = np.int64(40320)\n"
     ]
    }
   ],
   "source": [
    "import numpy as np\n",
    "def calcSumProduct2(*inputs):\n",
    "    \"\"\"calcSumProduct2 함수는 입력의 합과 곱을 튜플로 반환하는 함수이다.\"\"\"\n",
    "    print(f'{inputs = }')\n",
    "    plus = np.sum(inputs)\n",
    "    multiple = np.prod(inputs)\n",
    "    return plus, multiple\n",
    "sum, product = calcSumProduct2(1,2,3)\n",
    "print(f'{sum = }, {product = }\\n')\n",
    "sum, product = calcSumProduct2(1,2,3,4,5,6,7,8)\n",
    "print(f'{sum = }, {product = }')"
   ]
  },
  {
   "cell_type": "markdown",
   "id": "43bf1e4c",
   "metadata": {},
   "source": [
    "### **kwargs의 활용 "
   ]
  },
  {
   "cell_type": "code",
   "execution_count": 46,
   "id": "5575a750",
   "metadata": {},
   "outputs": [
    {
     "name": "stdout",
     "output_type": "stream",
     "text": [
      "inputs = {'a': 1, 'b': 2}\n",
      "sum = 3, product = 2\n",
      "\n",
      "inputs = {'a': 1, 'b': 2, 'c': 3, 'd': 4}\n",
      "sum = 10, product = 24\n"
     ]
    }
   ],
   "source": [
    "import numpy as np\n",
    "def calcSumProduct2(**inputs):\n",
    "    print(f'{inputs = }')\n",
    "    plus = 0\n",
    "    multiple = 1\n",
    "    for _, value in inputs.items():\n",
    "        plus += value\n",
    "        multiple *= value\n",
    "    return plus, multiple\n",
    "sum, product = calcSumProduct2(a=1, b=2)\n",
    "print(f'{sum = }, {product = }\\n')\n",
    "sum, product = calcSumProduct2(a=1, b=2, c=3, d=4)\n",
    "print(f'{sum = }, {product = }')"
   ]
  },
  {
   "cell_type": "markdown",
   "id": "d58cf668",
   "metadata": {},
   "source": [
    "## 지역변수와 전역변수"
   ]
  },
  {
   "cell_type": "markdown",
   "id": "cd388061",
   "metadata": {},
   "source": [
    "### 함수 내에서 전역변수의 사용"
   ]
  },
  {
   "cell_type": "code",
   "execution_count": 6,
   "id": "d0bc5562",
   "metadata": {},
   "outputs": [
    {
     "name": "stdout",
     "output_type": "stream",
     "text": [
      "var_global = '전역 변수'\n",
      "var_local = '인자는 지역 변수'\n",
      "var_global = '전역 변수'\n",
      "name 'var_local' is not defined\n"
     ]
    }
   ],
   "source": [
    "var_global = '전역 변수'\n",
    "def useGlobalVariable(var_local):\n",
    "\n",
    "    print(f'{var_global = }')\n",
    "    print(f'{var_local = }')\n",
    "\n",
    "useGlobalVariable('인자는 지역 변수')\n",
    "\n",
    "print(f'{var_global = }')\n",
    "\n",
    "try:\n",
    "    print(f'{var_local = }')\n",
    "except NameError as e:\n",
    "    print(e)"
   ]
  },
  {
   "cell_type": "markdown",
   "id": "8688ef4d",
   "metadata": {},
   "source": [
    "### 함수 내에서 전역변수를 변경하는 방법"
   ]
  },
  {
   "cell_type": "code",
   "execution_count": 7,
   "id": "5a3f0674",
   "metadata": {},
   "outputs": [
    {
     "name": "stdout",
     "output_type": "stream",
     "text": [
      "var_global = '전역변수'\n",
      "var_local = '인자는 지역 변수'\n",
      "var_global = '이제 전역 변수임'\n"
     ]
    }
   ],
   "source": [
    "var_global = '전역변수'\n",
    "def useGlobalVariable(var_local):\n",
    "    global var_global\n",
    "\n",
    "    print(f'{var_global = }')\n",
    "    print(f'{var_local = }')\n",
    "\n",
    "    var_global = '이제 전역 변수임'\n",
    "useGlobalVariable('인자는 지역 변수')\n",
    "\n",
    "print(f'{var_global = }')"
   ]
  },
  {
   "cell_type": "markdown",
   "id": "b2e0b4d1",
   "metadata": {},
   "source": [
    "## 람다함수"
   ]
  },
  {
   "cell_type": "markdown",
   "id": "aa02a330",
   "metadata": {},
   "source": [
    "### 람다함수 정의"
   ]
  },
  {
   "cell_type": "code",
   "execution_count": 8,
   "id": "23af792f",
   "metadata": {},
   "outputs": [
    {
     "data": {
      "text/plain": [
       "15"
      ]
     },
     "execution_count": 8,
     "metadata": {},
     "output_type": "execute_result"
    }
   ],
   "source": [
    "def addTen(x):\n",
    "    return x+10\n",
    "\n",
    "addTen(5)"
   ]
  },
  {
   "cell_type": "code",
   "execution_count": 9,
   "id": "c5115fc7",
   "metadata": {},
   "outputs": [
    {
     "data": {
      "text/plain": [
       "<function __main__.<lambda>(x)>"
      ]
     },
     "execution_count": 9,
     "metadata": {},
     "output_type": "execute_result"
    }
   ],
   "source": [
    "lambda x: x+10"
   ]
  },
  {
   "cell_type": "code",
   "execution_count": 10,
   "id": "b810a338",
   "metadata": {},
   "outputs": [
    {
     "data": {
      "text/plain": [
       "15"
      ]
     },
     "execution_count": 10,
     "metadata": {},
     "output_type": "execute_result"
    }
   ],
   "source": [
    "(lambda x: x+10)(5)"
   ]
  },
  {
   "cell_type": "code",
   "execution_count": 11,
   "id": "501fcd42",
   "metadata": {},
   "outputs": [
    {
     "data": {
      "text/plain": [
       "15"
      ]
     },
     "execution_count": 11,
     "metadata": {},
     "output_type": "execute_result"
    }
   ],
   "source": [
    "addTen = lambda x: x+10\n",
    "\n",
    "addTen(5)"
   ]
  },
  {
   "cell_type": "markdown",
   "id": "e950ea52",
   "metadata": {},
   "source": [
    "### 람다함수 응용"
   ]
  },
  {
   "cell_type": "markdown",
   "id": "c3d93c48",
   "metadata": {},
   "source": [
    "#### 람다함수에 외부 변수의 사용"
   ]
  },
  {
   "cell_type": "code",
   "execution_count": 12,
   "id": "449ec26d",
   "metadata": {},
   "outputs": [
    {
     "data": {
      "text/plain": [
       "115"
      ]
     },
     "execution_count": 12,
     "metadata": {},
     "output_type": "execute_result"
    }
   ],
   "source": [
    "y = 100\n",
    "(lambda x: x+y+10)(5)"
   ]
  },
  {
   "cell_type": "markdown",
   "id": "114ee43d",
   "metadata": {},
   "source": [
    "#### 람다함수에 조건부 표현식 사용"
   ]
  },
  {
   "cell_type": "code",
   "execution_count": 13,
   "id": "5c815d1a",
   "metadata": {},
   "outputs": [
    {
     "data": {
      "text/plain": [
       "'(3의 배수)9'"
      ]
     },
     "execution_count": 13,
     "metadata": {},
     "output_type": "execute_result"
    }
   ],
   "source": [
    "(lambda x: '(3의 배수)' +str(x) if x%3==0 else x)(9)"
   ]
  },
  {
   "cell_type": "code",
   "execution_count": 14,
   "id": "327a751f",
   "metadata": {},
   "outputs": [
    {
     "data": {
      "text/plain": [
       "8"
      ]
     },
     "execution_count": 14,
     "metadata": {},
     "output_type": "execute_result"
    }
   ],
   "source": [
    "(lambda x: '(3의 배수)' +str(x) if x%3==0 else x)(8)"
   ]
  },
  {
   "cell_type": "code",
   "execution_count": 15,
   "id": "634d9b7a",
   "metadata": {},
   "outputs": [
    {
     "data": {
      "text/plain": [
       "'(3의 배수)9'"
      ]
     },
     "execution_count": 15,
     "metadata": {},
     "output_type": "execute_result"
    }
   ],
   "source": [
    "(lambda x: '(3의 배수)' +str(x) if x%3==0 else float(x) if x%3==1 else x)(9)"
   ]
  },
  {
   "cell_type": "code",
   "execution_count": 17,
   "id": "190cd639",
   "metadata": {},
   "outputs": [
    {
     "data": {
      "text/plain": [
       "7.0"
      ]
     },
     "execution_count": 17,
     "metadata": {},
     "output_type": "execute_result"
    }
   ],
   "source": [
    "(lambda x: '(3의 배수)' +str(x) if x%3==0 else float(x) if x%3==1 else x)(7)"
   ]
  },
  {
   "cell_type": "code",
   "execution_count": 18,
   "id": "3fdec8a9",
   "metadata": {},
   "outputs": [
    {
     "data": {
      "text/plain": [
       "5"
      ]
     },
     "execution_count": 18,
     "metadata": {},
     "output_type": "execute_result"
    }
   ],
   "source": [
    "(lambda x: '(3의 배수)' +str(x) if x%3==0 else float(x) if x%3==1 else x)(5)"
   ]
  },
  {
   "cell_type": "markdown",
   "id": "1a6e8d6f",
   "metadata": {},
   "source": [
    "#### 람다함수에 인자 여러개 넣기"
   ]
  },
  {
   "cell_type": "code",
   "execution_count": 19,
   "id": "e3afe10f",
   "metadata": {},
   "outputs": [
    {
     "data": {
      "text/plain": [
       "3"
      ]
     },
     "execution_count": 19,
     "metadata": {},
     "output_type": "execute_result"
    }
   ],
   "source": [
    "(lambda x,y: x if x%3==0 else x+y)(3,4)"
   ]
  },
  {
   "cell_type": "code",
   "execution_count": 20,
   "id": "2c778659",
   "metadata": {},
   "outputs": [
    {
     "data": {
      "text/plain": [
       "6"
      ]
     },
     "execution_count": 20,
     "metadata": {},
     "output_type": "execute_result"
    }
   ],
   "source": [
    "(lambda x,y: x if x%3==0 else x+y)(2,4)"
   ]
  },
  {
   "cell_type": "markdown",
   "id": "4d830583",
   "metadata": {},
   "source": [
    "### 람다함수의 활용"
   ]
  },
  {
   "cell_type": "markdown",
   "id": "fbb7e062",
   "metadata": {},
   "source": [
    "#### map 함수에 적용"
   ]
  },
  {
   "cell_type": "code",
   "execution_count": 21,
   "id": "cc6c844c",
   "metadata": {},
   "outputs": [
    {
     "data": {
      "text/plain": [
       "[11, 12, 13]"
      ]
     },
     "execution_count": 21,
     "metadata": {},
     "output_type": "execute_result"
    }
   ],
   "source": [
    "list(map(lambda x: x+10, [1,2,3]))"
   ]
  },
  {
   "cell_type": "code",
   "execution_count": 22,
   "id": "7bd1c3e4",
   "metadata": {},
   "outputs": [
    {
     "data": {
      "text/plain": [
       "['(3의 배수) 0', 1, 2, '(3의 배수) 3', 4, 5, '(3의 배수) 6', 7, 8, '(3의 배수) 9']"
      ]
     },
     "execution_count": 22,
     "metadata": {},
     "output_type": "execute_result"
    }
   ],
   "source": [
    "ldMultiple3 = lambda x: '(3의 배수) ' +str(x) if x%3==0 else x\n",
    "list(map(ldMultiple3, range(10)))"
   ]
  },
  {
   "cell_type": "code",
   "execution_count": 35,
   "id": "f864cb92",
   "metadata": {},
   "outputs": [
    {
     "data": {
      "text/plain": [
       "['(3의 배수)0', 1.0, 2, '(3의 배수)3', 4.0, 5, '(3의 배수)6', 7.0, 8, '(3의 배수)9']"
      ]
     },
     "execution_count": 35,
     "metadata": {},
     "output_type": "execute_result"
    }
   ],
   "source": [
    "ldMultiple3f = lambda x: '(3의 배수)' +str(x) if x%3==0 else float(x) if x%3==1 else x\n",
    "list(map(ldMultiple3f,range(10)))"
   ]
  },
  {
   "cell_type": "code",
   "execution_count": 36,
   "id": "08b0d801",
   "metadata": {},
   "outputs": [
    {
     "data": {
      "text/plain": [
       "[0, 101, 102, 3, 104, 105, 6, 107, 108, 9]"
      ]
     },
     "execution_count": 36,
     "metadata": {},
     "output_type": "execute_result"
    }
   ],
   "source": [
    "ldMultiple3a = lambda x,y: x if x%3==0 else x+y\n",
    "list(map(ldMultiple3a,range(10), [100]*10))"
   ]
  },
  {
   "cell_type": "markdown",
   "id": "2414d8e6",
   "metadata": {},
   "source": [
    "## **함수_응용**"
   ]
  },
  {
   "cell_type": "markdown",
   "id": "00d27fba",
   "metadata": {},
   "source": [
    "### 함수 주석"
   ]
  },
  {
   "cell_type": "code",
   "execution_count": null,
   "id": "6af9da94",
   "metadata": {},
   "outputs": [
    {
     "name": "stdout",
     "output_type": "stream",
     "text": [
      "Help on function multiple1 in module __main__:\n",
      "\n",
      "multiple1(x)\n",
      "    multiple 함수는 x를 3으로 나눈 나머지에 따라 값을 반환하는 함수이다.\n",
      "\n"
     ]
    }
   ],
   "source": [
    "def multiple1(x): \n",
    "    \"\"\"multiple 함수는 x를 3으로 나눈 나머지에 따라 값을 반환하는 함수이다.\"\"\"\n",
    "    if x%3 == 0:\n",
    "        return str(x)\n",
    "    elif x%3 == 1:\n",
    "        return float(x)\n",
    "    else: \n",
    "        return(x)\n",
    "    \n",
    "help(multiple1)\n",
    "\n",
    "#다양한 함수에 대한 정보를 작성할 수 있음음\n"
   ]
  },
  {
   "cell_type": "markdown",
   "id": "a8e92948",
   "metadata": {},
   "source": [
    "### 람다함수 응용"
   ]
  },
  {
   "cell_type": "code",
   "execution_count": 10,
   "id": "f6672875",
   "metadata": {},
   "outputs": [
    {
     "data": {
      "text/plain": [
       "8"
      ]
     },
     "execution_count": 10,
     "metadata": {},
     "output_type": "execute_result"
    }
   ],
   "source": [
    "def multiple1(x):\n",
    "    if x%3 ==0:\n",
    "        return '(3의 배수)'+str(x)\n",
    "    elif x%3==1:\n",
    "        return(float(x))\n",
    "    else:\n",
    "        return(x)\n",
    "x = 8\n",
    "multiple1(x)"
   ]
  },
  {
   "cell_type": "code",
   "execution_count": 12,
   "id": "2b33ed44",
   "metadata": {},
   "outputs": [
    {
     "data": {
      "text/plain": [
       "8"
      ]
     },
     "execution_count": 12,
     "metadata": {},
     "output_type": "execute_result"
    }
   ],
   "source": [
    "(lambda x: '(3의 배수)'+str(x) if x%3 == 0 else float(x) if x%3 ==1 else x)(8)\n",
    "# 같은 내용을 람다함수를 활용하거나 def를 활용할 수 있음"
   ]
  },
  {
   "cell_type": "code",
   "execution_count": 13,
   "id": "808adad6",
   "metadata": {},
   "outputs": [
    {
     "data": {
      "text/plain": [
       "'(3의 배수)813'"
      ]
     },
     "execution_count": 13,
     "metadata": {},
     "output_type": "execute_result"
    }
   ],
   "source": [
    "def multiple2(x):\n",
    "    if x%3 ==0:\n",
    "        value = '(3의 배수)' + str(x)\n",
    "    elif x%3 == 1:\n",
    "        value = float(x)\n",
    "    else:\n",
    "        value = x\n",
    "    return value\n",
    "\n",
    "multiple2(813)\n",
    "\n",
    "#람다함수를 def문으로 바꿈"
   ]
  },
  {
   "cell_type": "markdown",
   "id": "bfb7d114",
   "metadata": {},
   "source": [
    "### 람다함수의 활용"
   ]
  },
  {
   "cell_type": "code",
   "execution_count": 45,
   "id": "ea6926bc",
   "metadata": {},
   "outputs": [
    {
     "data": {
      "text/plain": [
       "[0, 13, 30, 3, 13, 30, 6, 13, 30, 9]"
      ]
     },
     "execution_count": 45,
     "metadata": {},
     "output_type": "execute_result"
    }
   ],
   "source": [
    "list(map(lambda x: x+1, [10,11,12]))\n",
    "idmultiple = lambda x,y,z: x if x%3 == 0 else y+z if x%3 == 1 else y*z\n",
    "list(map(idmultiple, range(10), [10]*10, [3]*10))\n",
    "\n",
    "#3개의 변수도 활용 가능"
   ]
  }
 ],
 "metadata": {
  "kernelspec": {
   "display_name": "Python 3",
   "language": "python",
   "name": "python3"
  },
  "language_info": {
   "codemirror_mode": {
    "name": "ipython",
    "version": 3
   },
   "file_extension": ".py",
   "mimetype": "text/x-python",
   "name": "python",
   "nbconvert_exporter": "python",
   "pygments_lexer": "ipython3",
   "version": "3.13.2"
  }
 },
 "nbformat": 4,
 "nbformat_minor": 5
}
