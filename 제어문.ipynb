{
 "cells": [
  {
   "cell_type": "markdown",
   "id": "c1671c5d",
   "metadata": {},
   "source": [
    "### C431229 조영주\n",
    "# **제어문_기본**\n",
    "## 분기문"
   ]
  },
  {
   "cell_type": "code",
   "execution_count": 1,
   "id": "565bf0d0",
   "metadata": {},
   "outputs": [
    {
     "name": "stdout",
     "output_type": "stream",
     "text": [
      "조건이 참입니다.\n",
      "조건문이 종료되었습니다.\n"
     ]
    }
   ],
   "source": [
    "if True:\n",
    "    print('조건이 참입니다.')\n",
    "print('조건문이 종료되었습니다.')"
   ]
  },
  {
   "cell_type": "code",
   "execution_count": 2,
   "id": "95d5539d",
   "metadata": {},
   "outputs": [
    {
     "name": "stdout",
     "output_type": "stream",
     "text": [
      "조건문이 종료되었습니다.\n"
     ]
    }
   ],
   "source": [
    "if False:\n",
    "    print('조건이 참입니다.')\n",
    "print('조건문이 종료되었습니다.')"
   ]
  },
  {
   "cell_type": "markdown",
   "id": "8a153e28",
   "metadata": {},
   "source": [
    "### if문"
   ]
  },
  {
   "cell_type": "code",
   "execution_count": 4,
   "id": "3c618630",
   "metadata": {},
   "outputs": [
    {
     "name": "stdout",
     "output_type": "stream",
     "text": [
      "걸어간다.\n"
     ]
    }
   ],
   "source": [
    "money = 100\n",
    "if money<= 500:\n",
    "    print('걸어간다.')"
   ]
  },
  {
   "cell_type": "markdown",
   "id": "31662832",
   "metadata": {},
   "source": [
    "### if-else 문"
   ]
  },
  {
   "cell_type": "code",
   "execution_count": 5,
   "id": "c9d26dcd",
   "metadata": {},
   "outputs": [
    {
     "name": "stdout",
     "output_type": "stream",
     "text": [
      "택시탄다.\n"
     ]
    }
   ],
   "source": [
    "money = 1000\n",
    "if money<= 500:\n",
    "    print('걸어간다.')\n",
    "else:\n",
    "    print('택시탄다.')"
   ]
  },
  {
   "cell_type": "markdown",
   "id": "890497c0",
   "metadata": {},
   "source": [
    "### if-elif-else 문"
   ]
  },
  {
   "cell_type": "code",
   "execution_count": 6,
   "id": "77311ad4",
   "metadata": {},
   "outputs": [
    {
     "name": "stdout",
     "output_type": "stream",
     "text": [
      "버스탄다.\n"
     ]
    }
   ],
   "source": [
    "money = 1000\n",
    "if money<= 500:\n",
    "    print('걸어간다.')\n",
    "elif money <= 2500:\n",
    "    print('버스탄다.')\n",
    "else:\n",
    "    print('택시탄다.')"
   ]
  },
  {
   "cell_type": "markdown",
   "id": "9b0c6286",
   "metadata": {},
   "source": [
    "## 반복문\n",
    "### while문"
   ]
  },
  {
   "cell_type": "code",
   "execution_count": 7,
   "id": "645ac320",
   "metadata": {},
   "outputs": [
    {
     "name": "stdout",
     "output_type": "stream",
     "text": [
      "n= 1\n",
      "n= 2\n",
      "n= 3\n",
      "n= 4\n",
      "n= 5\n"
     ]
    }
   ],
   "source": [
    "n = 0\n",
    "while n < 5:\n",
    "    n = n+1\n",
    "    print(\"n=\", n)"
   ]
  },
  {
   "cell_type": "markdown",
   "id": "9995c7ac",
   "metadata": {},
   "source": [
    "### for문"
   ]
  },
  {
   "cell_type": "code",
   "execution_count": 2,
   "id": "2960129a",
   "metadata": {},
   "outputs": [
    {
     "name": "stdout",
     "output_type": "stream",
     "text": [
      "n= 0\n",
      "n= 1\n",
      "n= 2\n",
      "n= 3\n",
      "n= 4\n",
      "n= 5\n"
     ]
    }
   ],
   "source": [
    "for n in range (0,6):\n",
    "    print(\"n=\", n)"
   ]
  },
  {
   "cell_type": "code",
   "execution_count": 13,
   "id": "d4eea1a6",
   "metadata": {},
   "outputs": [
    {
     "name": "stdout",
     "output_type": "stream",
     "text": [
      "item = 1\n",
      "item = 2\n",
      "item = 3\n",
      "item = 4\n",
      "item = 5\n"
     ]
    }
   ],
   "source": [
    "x_list = [1,2,3,4,5]\n",
    "\n",
    "for item in x_list:\n",
    "    print(f'{item = }')"
   ]
  },
  {
   "cell_type": "code",
   "execution_count": 16,
   "id": "d4359d68",
   "metadata": {},
   "outputs": [
    {
     "name": "stdout",
     "output_type": "stream",
     "text": [
      "<built-in function len>(x) = 5\n",
      "<built-in function max>(x) = 50\n",
      "<built-in function sum>(x) = 150\n"
     ]
    }
   ],
   "source": [
    "x = [10, 20, 30, 40, 50]\n",
    "for method in [len, max, sum]:\n",
    "    print(f'{method}(x) = {method(x)}')"
   ]
  },
  {
   "cell_type": "markdown",
   "id": "50a506b9",
   "metadata": {},
   "source": [
    "### enumerate()함수를 이용한 for문"
   ]
  },
  {
   "cell_type": "code",
   "execution_count": 19,
   "id": "66960b9f",
   "metadata": {},
   "outputs": [
    {
     "name": "stdout",
     "output_type": "stream",
     "text": [
      "item = (0, 'a')\n",
      "item = (1, 'b')\n",
      "item = (2, 'c')\n",
      "item = (3, 'd')\n",
      "item = (4, 'e')\n"
     ]
    }
   ],
   "source": [
    "for item in enumerate(['a', 'b', 'c', 'd', 'e']):\n",
    "    print(f'{item = }')"
   ]
  },
  {
   "cell_type": "code",
   "execution_count": null,
   "id": "a6a2f5b1",
   "metadata": {},
   "outputs": [
    {
     "name": "stdout",
     "output_type": "stream",
     "text": [
      "i =0, item = 'a'\n",
      "i =1, item = 'b'\n",
      "i =2, item = 'c'\n",
      "i =3, item = 'd'\n",
      "i =4, item = 'e'\n"
     ]
    }
   ],
   "source": [
    "for i,  item in enumerate(['a', 'b', 'c', 'd', 'e']):\n",
    "    print(f'{i =}, {item = }')"
   ]
  },
  {
   "cell_type": "markdown",
   "id": "59266f12",
   "metadata": {},
   "source": [
    "### zip()함수를 이용한 for문"
   ]
  },
  {
   "cell_type": "code",
   "execution_count": 22,
   "id": "7b7947db",
   "metadata": {},
   "outputs": [
    {
     "data": {
      "text/plain": [
       "<zip at 0x21e82d3f240>"
      ]
     },
     "execution_count": 22,
     "metadata": {},
     "output_type": "execute_result"
    }
   ],
   "source": [
    "x_list = [1, 2, 3, 4, 5]\n",
    "y_tuple = ('a', 'b', 'c', 'd', 'e')\n",
    "z_str = 'ABCDE'\n",
    "\n",
    "zip(x_list, y_tuple, z_str)"
   ]
  },
  {
   "cell_type": "code",
   "execution_count": 23,
   "id": "2239178c",
   "metadata": {},
   "outputs": [
    {
     "data": {
      "text/plain": [
       "[(1, 'a', 'A'), (2, 'b', 'B'), (3, 'c', 'C'), (4, 'd', 'D'), (5, 'e', 'E')]"
      ]
     },
     "execution_count": 23,
     "metadata": {},
     "output_type": "execute_result"
    }
   ],
   "source": [
    "list(zip(x_list, y_tuple, z_str))"
   ]
  },
  {
   "cell_type": "code",
   "execution_count": 24,
   "id": "347fc467",
   "metadata": {},
   "outputs": [
    {
     "name": "stdout",
     "output_type": "stream",
     "text": [
      "x = 1, y = 'a', z = 'A'\n",
      "x = 2, y = 'b', z = 'B'\n",
      "x = 3, y = 'c', z = 'C'\n",
      "x = 4, y = 'd', z = 'D'\n",
      "x = 5, y = 'e', z = 'E'\n"
     ]
    }
   ],
   "source": [
    "for x, y, z in zip(x_list, y_tuple, z_str):\n",
    "    print(f'{x = }, {y = }, {z = }')"
   ]
  },
  {
   "cell_type": "code",
   "execution_count": 25,
   "id": "88047385",
   "metadata": {},
   "outputs": [
    {
     "name": "stdout",
     "output_type": "stream",
     "text": [
      "i = 0, x = 1, y = 'a', z = 'A'\n",
      "i = 1, x = 2, y = 'b', z = 'B'\n",
      "i = 2, x = 3, y = 'c', z = 'C'\n",
      "i = 3, x = 4, y = 'd', z = 'D'\n",
      "i = 4, x = 5, y = 'e', z = 'E'\n"
     ]
    }
   ],
   "source": [
    "for i, (x,y,z) in enumerate(zip(x_list, y_tuple, z_str)):\n",
    "    print(f'{i = }, {x = }, {y = }, {z = }')"
   ]
  },
  {
   "cell_type": "markdown",
   "id": "4823826e",
   "metadata": {},
   "source": [
    "### break, continue, pass, exit로 제어문 통제하기"
   ]
  },
  {
   "cell_type": "code",
   "execution_count": 26,
   "id": "8f774dcf",
   "metadata": {},
   "outputs": [
    {
     "name": "stdout",
     "output_type": "stream",
     "text": [
      "i = 0, item = 'a'\n",
      "i = 1, item = 'b'\n"
     ]
    }
   ],
   "source": [
    "for i, item in enumerate(['a', 'b', 'c', 'd', 'e']):\n",
    "    if i ==2:\n",
    "        break\n",
    "    print(f'{i = }, {item = }')"
   ]
  },
  {
   "cell_type": "code",
   "execution_count": 29,
   "id": "0a90d46a",
   "metadata": {},
   "outputs": [
    {
     "name": "stdout",
     "output_type": "stream",
     "text": [
      "i = 0, item = 'a'\n",
      "i = 1, item = 'b'\n",
      "i = 3, item = 'd'\n",
      "i = 4, item = 'e'\n"
     ]
    }
   ],
   "source": [
    "for i, item in enumerate(['a', 'b', 'c', 'd', 'e']):\n",
    "    if i ==2:\n",
    "        continue\n",
    "    print(f'{i = }, {item = }')"
   ]
  },
  {
   "cell_type": "code",
   "execution_count": 33,
   "id": "3be8431c",
   "metadata": {},
   "outputs": [
    {
     "name": "stdout",
     "output_type": "stream",
     "text": [
      "i = 0, item = 'a'\n",
      "i = 1, item = 'b'\n",
      "i = 2, item = 'c'\n",
      "i = 3, item = 'd'\n",
      "i = 4, item = 'e'\n"
     ]
    }
   ],
   "source": [
    "for i, item in enumerate(['a', 'b', 'c', 'd', 'e']):\n",
    "    if i ==2:\n",
    "        pass\n",
    "    print(f'{i = }, {item = }')"
   ]
  },
  {
   "cell_type": "code",
   "execution_count": 30,
   "id": "7babbec2",
   "metadata": {},
   "outputs": [
    {
     "name": "stdout",
     "output_type": "stream",
     "text": [
      "i = 0, item = 'a'\n",
      "i = 1, item = 'b'\n",
      "여기에서 실제로는 종료됨. 편의를 위해 주석처리\n",
      "i = 2, item = 'c'\n",
      "i = 3, item = 'd'\n",
      "i = 4, item = 'e'\n"
     ]
    }
   ],
   "source": [
    "for i, item in enumerate(['a', 'b', 'c', 'd', 'e']):\n",
    "    if i ==2:\n",
    "        print('여기에서 실제로는 종료됨. 편의를 위해 주석처리')\n",
    "    print(f'{i = }, {item = }')"
   ]
  },
  {
   "cell_type": "markdown",
   "id": "86bce40e",
   "metadata": {},
   "source": [
    "### 중첩 제어문"
   ]
  },
  {
   "cell_type": "code",
   "execution_count": 32,
   "id": "887dcd40",
   "metadata": {},
   "outputs": [
    {
     "name": "stdout",
     "output_type": "stream",
     "text": [
      "1x1= 1\t2x1= 2\t3x1= 3\t4x1= 4\t5x1= 5\t6x1= 6\t7x1= 7\t8x1= 8\t9x1= 9\t\n",
      "1x2= 2\t2x2= 4\t3x2= 6\t4x2= 8\t5x2=10\t6x2=12\t7x2=14\t8x2=16\t9x2=18\t\n",
      "1x3= 3\t2x3= 6\t3x3= 9\t4x3=12\t5x3=15\t6x3=18\t7x3=21\t8x3=24\t9x3=27\t\n",
      "1x4= 4\t2x4= 8\t3x4=12\t4x4=16\t5x4=20\t6x4=24\t7x4=28\t8x4=32\t9x4=36\t\n",
      "1x5= 5\t2x5=10\t3x5=15\t4x5=20\t5x5=25\t6x5=30\t7x5=35\t8x5=40\t9x5=45\t\n",
      "1x6= 6\t2x6=12\t3x6=18\t4x6=24\t5x6=30\t6x6=36\t7x6=42\t8x6=48\t9x6=54\t\n",
      "1x7= 7\t2x7=14\t3x7=21\t4x7=28\t5x7=35\t6x7=42\t7x7=49\t8x7=56\t9x7=63\t\n",
      "1x8= 8\t2x8=16\t3x8=24\t4x8=32\t5x8=40\t6x8=48\t7x8=56\t8x8=64\t9x8=72\t\n",
      "1x9= 9\t2x9=18\t3x9=27\t4x9=36\t5x9=45\t6x9=54\t7x9=63\t8x9=72\t9x9=81\t\n"
     ]
    }
   ],
   "source": [
    "for i in range(1, 10):\n",
    "    for j in range(1, 10):\n",
    "        print(f'{j}x{i}={j*i:>2d}', end='\\t')\n",
    "        if j == 9:\n",
    "            print()"
   ]
  },
  {
   "cell_type": "markdown",
   "id": "d78ce2c6",
   "metadata": {},
   "source": [
    "## **제어문_응용**"
   ]
  },
  {
   "cell_type": "markdown",
   "id": "74a60b4a",
   "metadata": {},
   "source": [
    "### if문"
   ]
  },
  {
   "cell_type": "code",
   "execution_count": 18,
   "id": "cc13072c",
   "metadata": {},
   "outputs": [
    {
     "name": "stdout",
     "output_type": "stream",
     "text": [
      "조건이 참입니다.\n",
      "조건이 종료되었습니다.\n"
     ]
    }
   ],
   "source": [
    "if True : #:를 띄워써도 상관 없음\n",
    "    print('조건이 참입니다.')\n",
    "print('조건이 종료되었습니다.')"
   ]
  },
  {
   "cell_type": "markdown",
   "id": "54708d7a",
   "metadata": {},
   "source": [
    "### if-elif-else 문"
   ]
  },
  {
   "cell_type": "code",
   "execution_count": 1,
   "id": "8b53f148",
   "metadata": {},
   "outputs": [
    {
     "name": "stdout",
     "output_type": "stream",
     "text": [
      "이제 졸업해야지....\n"
     ]
    }
   ],
   "source": [
    "학년 = 2.5\n",
    "if 학년==1:\n",
    "    print('파이썬 수강한다.')\n",
    "elif 학년 ==2:\n",
    "    print('R 수강한다.')\n",
    "elif 학년 ==3:\n",
    "    print('관리회계 수강한다.')\n",
    "elif 학년 ==4:\n",
    "    print('졸업논문 수강한다.')\n",
    "else:\n",
    "    print('이제 졸업해야지....')\n",
    "## 소수점 2.5를 넣으니 오류가 생김."
   ]
  },
  {
   "cell_type": "code",
   "execution_count": 3,
   "id": "55a79c6d",
   "metadata": {},
   "outputs": [
    {
     "name": "stdout",
     "output_type": "stream",
     "text": [
      "R 수강한다.\n"
     ]
    }
   ],
   "source": [
    "학년 = 2.5\n",
    "if 학년<2:\n",
    "    print('파이썬 수강한다.')\n",
    "elif 학년<3:\n",
    "    print('R 수강한다.')\n",
    "elif 학년<4:\n",
    "    print('관리회계 수강한다.')\n",
    "elif 학년<5:\n",
    "    print('졸업논문 수강한다.')\n",
    "else:\n",
    "    print('이제 졸업해야지....')\n",
    "## <로 조건을 수정하여 제대로 동작하게 만듦."
   ]
  },
  {
   "cell_type": "code",
   "execution_count": 6,
   "id": "d2b35132",
   "metadata": {},
   "outputs": [
    {
     "name": "stdout",
     "output_type": "stream",
     "text": [
      "졸업논문 수강한다.\n"
     ]
    }
   ],
   "source": [
    "학년 = 3\n",
    "if 학년<2:\n",
    "    print('파이썬 수강한다.')\n",
    "elif 학년<5:\n",
    "    print('졸업논문 수강한다.')\n",
    "elif 학년<3:\n",
    "    print('R 수강한다.')\n",
    "elif 학년<4:\n",
    "    print('관리회계 수강한다.')\n",
    "else:\n",
    "    print('이제 졸업해야지....')\n",
    "# 문법상은 완벽\n",
    "# 위에서 아래로 작동하기 때문에 순서가 맞지 않으면 잘못된 결과가 도출됨"
   ]
  },
  {
   "cell_type": "markdown",
   "id": "1be339f1",
   "metadata": {},
   "source": [
    "### while문"
   ]
  },
  {
   "cell_type": "code",
   "execution_count": 21,
   "id": "64848302",
   "metadata": {},
   "outputs": [
    {
     "name": "stdout",
     "output_type": "stream",
     "text": [
      "n= 0\n",
      "n= 1\n",
      "n= 2\n",
      "n= 3\n",
      "n= 4\n",
      "a= 1\n",
      "a= 2\n",
      "a= 3\n",
      "a= 4\n",
      "a= 5\n"
     ]
    }
   ],
   "source": [
    "n = 0\n",
    "while n < 5:\n",
    "    print(\"n=\", n)\n",
    "    n = n+1\n",
    "\n",
    "a = 0\n",
    "while a < 5:\n",
    "    a = a+1\n",
    "    print(\"a=\", a)\n",
    "#순서를 바꾸면 결과도 달라질 수 있음"
   ]
  },
  {
   "cell_type": "markdown",
   "id": "af9e1e0d",
   "metadata": {},
   "source": [
    "### for문"
   ]
  },
  {
   "cell_type": "code",
   "execution_count": 16,
   "id": "27f51fb1",
   "metadata": {},
   "outputs": [
    {
     "name": "stdout",
     "output_type": "stream",
     "text": [
      "0은 10보다 작습니다.\n",
      "1은 10보다 작습니다.\n",
      "2은 10보다 작습니다.\n",
      "3은 10보다 작습니다.\n",
      "4은 10보다 작습니다.\n",
      "5은 10보다 작습니다.\n",
      "6은 10보다 작습니다.\n",
      "7은 10보다 작습니다.\n",
      "8은 10보다 작습니다.\n",
      "9은 10보다 작습니다.\n",
      "10은 10보다 크거나 같습니다.\n",
      "11은 10보다 크거나 같습니다.\n",
      "12은 10보다 크거나 같습니다.\n",
      "13은 10보다 크거나 같습니다.\n",
      "14은 10보다 크거나 같습니다.\n",
      "15은 10보다 크거나 같습니다.\n",
      "16은 10보다 크거나 같습니다.\n",
      "17은 10보다 크거나 같습니다.\n",
      "18은 10보다 크거나 같습니다.\n",
      "19은 10보다 크거나 같습니다.\n"
     ]
    }
   ],
   "source": [
    "for n in range(0,20):\n",
    "    if n<10:\n",
    "        print(f\"{n}은 10보다 작습니다.\")\n",
    "    else:\n",
    "        print(f\"{n}은 10보다 크거나 같습니다.\")\n",
    "# while문과 if-else문을 같이 사용\n",
    "# 0부터 19까지의 범위에서 if-else문으로 조건 지정"
   ]
  },
  {
   "cell_type": "markdown",
   "id": "6b2e954c",
   "metadata": {},
   "source": [
    "### zip() 함수를 이용한 for문"
   ]
  },
  {
   "cell_type": "code",
   "execution_count": 41,
   "id": "71a63930",
   "metadata": {},
   "outputs": [
    {
     "data": {
      "text/plain": [
       "[(1, 'a', 'A'), (2, 'b', 'B'), (3, 'c', 'C')]"
      ]
     },
     "execution_count": 41,
     "metadata": {},
     "output_type": "execute_result"
    }
   ],
   "source": [
    "x_list = [1,2,3,4,5]\n",
    "y_tuple = ('a', 'b', 'c', 'd', 'e')\n",
    "z_str = 'ABC'\n",
    "zip(x_list, y_tuple, z_str)\n",
    "list(zip(x_list, y_tuple, z_str))\n",
    "#가장 길이가 짧은 z_str의 글자수를 기준으로 3쌍만 출력"
   ]
  },
  {
   "cell_type": "code",
   "execution_count": 45,
   "id": "71693037",
   "metadata": {},
   "outputs": [
    {
     "name": "stdout",
     "output_type": "stream",
     "text": [
      "not enough values to unpack (expected 4, got 3)\n"
     ]
    }
   ],
   "source": [
    "try:\n",
    "    for x, y, z, a in zip(x_list, y_tuple, z_str):\n",
    "        print(f'{x = }, {y = }, {z = }, {a = }')\n",
    "except ValueError as e:\n",
    "        print(e)\n",
    "#zip의 요소의 수(3개)와 변수의 수(4)가 다르기 때문에 오류 발생"
   ]
  },
  {
   "cell_type": "markdown",
   "id": "7b2056b8",
   "metadata": {},
   "source": [
    "### break, continue, pass, exit로 제어문 통제하기 "
   ]
  },
  {
   "cell_type": "code",
   "execution_count": 52,
   "id": "5d1821b1",
   "metadata": {},
   "outputs": [
    {
     "name": "stdout",
     "output_type": "stream",
     "text": [
      "i = 0, item = 'a'\n",
      "i = 1, item = 'b'\n",
      "for문을 빠져나왔습니다\n"
     ]
    }
   ],
   "source": [
    "for i, item in enumerate(['a', 'b', 'c', 'd', 'e']):\n",
    "    if i == 2:\n",
    "        break\n",
    "        print('나 브레이크야') # for문을 빠져나왔기 때문에 쓰이지 않음\n",
    "    print(f'{i = }, {item = }')\n",
    "print('for문을 빠져나왔습니다') # for문을 빠져나온 이후의 코드"
   ]
  },
  {
   "cell_type": "code",
   "execution_count": 54,
   "id": "95dbc374",
   "metadata": {},
   "outputs": [
    {
     "name": "stdout",
     "output_type": "stream",
     "text": [
      "i = 0, item = 'a'\n",
      "i = 1, item = 'b'\n",
      "i = 3, item = 'd'\n",
      "i = 4, item = 'e'\n",
      "for문을 빠져나왔습니다\n"
     ]
    }
   ],
   "source": [
    "for i, item in enumerate(['a', 'b', 'c', 'd', 'e']):\n",
    "    if i == 2:\n",
    "        continue\n",
    "        print('나 컨티뉴야') #continue를 만났기 때문에 건너뜀\n",
    "    print(f'{i = }, {item = }') \n",
    "print('for문을 빠져나왔습니다')"
   ]
  },
  {
   "cell_type": "markdown",
   "id": "1bca355a",
   "metadata": {},
   "source": [
    "### 중첩 제어문"
   ]
  },
  {
   "cell_type": "code",
   "execution_count": null,
   "id": "def29bb5",
   "metadata": {},
   "outputs": [
    {
     "name": "stdout",
     "output_type": "stream",
     "text": [
      " 2x 2=  4  4x 2=  8  6x 2= 12  8x 2= 16 10x 2= 20 12x 2= 24 14x 2= 28 16x 2= 32 18x 2= 36 20x 2= 40 \n",
      " 2x 4=  8  4x 4= 16  6x 4= 24  8x 4= 32 10x 4= 40 12x 4= 48 14x 4= 56 16x 4= 64 18x 4= 72 20x 4= 80 \n",
      " 2x 6= 12  4x 6= 24  6x 6= 36  8x 6= 48 10x 6= 60 12x 6= 72 14x 6= 84 16x 6= 96 18x 6=108 20x 6=120 \n",
      " 2x 8= 16  4x 8= 32  6x 8= 48  8x 8= 64 10x 8= 80 12x 8= 96 14x 8=112 16x 8=128 18x 8=144 20x 8=160 \n",
      " 2x10= 20  4x10= 40  6x10= 60  8x10= 80 10x10=100 12x10=120 14x10=140 16x10=160 18x10=180 20x10=200 \n",
      " 2x12= 24  4x12= 48  6x12= 72  8x12= 96 10x12=120 12x12=144 14x12=168 16x12=192 18x12=216 20x12=240 \n",
      " 2x14= 28  4x14= 56  6x14= 84  8x14=112 10x14=140 12x14=168 14x14=196 16x14=224 18x14=252 20x14=280 \n",
      " 2x16= 32  4x16= 64  6x16= 96  8x16=128 10x16=160 12x16=192 14x16=224 16x16=256 18x16=288 20x16=320 \n",
      " 2x18= 36  4x18= 72  6x18=108  8x18=144 10x18=180 12x18=216 14x18=252 16x18=288 18x18=324 20x18=360 \n",
      " 2x20= 40  4x20= 80  6x20=120  8x20=160 10x20=200 12x20=240 14x20=280 16x20=320 18x20=360 20x20=400 \n"
     ]
    }
   ],
   "source": [
    "for i in range(2, 21, 2): #짝수만 변수로 할당\n",
    "    for j in range(2, 21, 2):\n",
    "        print(f'{j: >2d}x{i: >2d}={j*i:>3d}', end=' ')\n",
    "        # i와 j가 최대 두자릿수이기 때문에 두 칸 확보\n",
    "        # i*j는 최대 세자릿수이기 때문에 세 칸 확보 \n",
    "        if j == 20:\n",
    "            print()"
   ]
  },
  {
   "cell_type": "code",
   "execution_count": 57,
   "id": "05aec21c",
   "metadata": {},
   "outputs": [
    {
     "name": "stdout",
     "output_type": "stream",
     "text": [
      "20x20=400 18x20=360 16x20=320 14x20=280 12x20=240 10x20=200  8x20=160  6x20=120  4x20= 80  2x20= 40 \n",
      "20x18=360 18x18=324 16x18=288 14x18=252 12x18=216 10x18=180  8x18=144  6x18=108  4x18= 72  2x18= 36 \n",
      "20x16=320 18x16=288 16x16=256 14x16=224 12x16=192 10x16=160  8x16=128  6x16= 96  4x16= 64  2x16= 32 \n",
      "20x14=280 18x14=252 16x14=224 14x14=196 12x14=168 10x14=140  8x14=112  6x14= 84  4x14= 56  2x14= 28 \n",
      "20x12=240 18x12=216 16x12=192 14x12=168 12x12=144 10x12=120  8x12= 96  6x12= 72  4x12= 48  2x12= 24 \n",
      "20x10=200 18x10=180 16x10=160 14x10=140 12x10=120 10x10=100  8x10= 80  6x10= 60  4x10= 40  2x10= 20 \n",
      "20x 8=160 18x 8=144 16x 8=128 14x 8=112 12x 8= 96 10x 8= 80  8x 8= 64  6x 8= 48  4x 8= 32  2x 8= 16 \n",
      "20x 6=120 18x 6=108 16x 6= 96 14x 6= 84 12x 6= 72 10x 6= 60  8x 6= 48  6x 6= 36  4x 6= 24  2x 6= 12 \n",
      "20x 4= 80 18x 4= 72 16x 4= 64 14x 4= 56 12x 4= 48 10x 4= 40  8x 4= 32  6x 4= 24  4x 4= 16  2x 4=  8 \n",
      "20x 2= 40 18x 2= 36 16x 2= 32 14x 2= 28 12x 2= 24 10x 2= 20  8x 2= 16  6x 2= 12  4x 2=  8  2x 2=  4 \n"
     ]
    }
   ],
   "source": [
    "for i in range(20, 1, -2): # 큰 수부터 내림차순으로 정렬. 2씩 줄어들기 때문에 -2 입력력\n",
    "    for j in range(20, 1, -2):\n",
    "        print(f'{j: >2d}x{i: >2d}={j*i:>3d}', end=' ')\n",
    "        if j == 2:\n",
    "            print()"
   ]
  }
 ],
 "metadata": {
  "kernelspec": {
   "display_name": "Python 3",
   "language": "python",
   "name": "python3"
  },
  "language_info": {
   "codemirror_mode": {
    "name": "ipython",
    "version": 3
   },
   "file_extension": ".py",
   "mimetype": "text/x-python",
   "name": "python",
   "nbconvert_exporter": "python",
   "pygments_lexer": "ipython3",
   "version": "3.13.2"
  }
 },
 "nbformat": 4,
 "nbformat_minor": 5
}
